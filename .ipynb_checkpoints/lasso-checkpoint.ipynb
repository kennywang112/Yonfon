{
 "cells": [
  {
   "cell_type": "code",
   "execution_count": 6,
   "id": "7435001b-6b1a-4052-a3e5-80537c90a65c",
   "metadata": {},
   "outputs": [],
   "source": [
    "import pandas as pd\n",
    "from sklearn.linear_model import Lasso\n",
    "import numpy as np"
   ]
  },
  {
   "cell_type": "code",
   "execution_count": 10,
   "id": "29909271-ed71-4ad0-b715-fb9d013cfa2a",
   "metadata": {},
   "outputs": [
    {
     "name": "stdout",
     "output_type": "stream",
     "text": [
      "(5876, 21)\n"
     ]
    }
   ],
   "source": [
    "train = pd.read_csv(\"30_Training Dataset_V2/training_data.csv\")\n",
    "test = pd.read_csv(\"30_Public Dataset_Public Sumission Template_v2/public_dataset.csv\")\n",
    "Y_train = train[['單價']]\n",
    "print(test.shape)"
   ]
  },
  {
   "cell_type": "code",
   "execution_count": 11,
   "id": "1507d05b-fb0a-42ec-9528-bee12f4bd41a",
   "metadata": {},
   "outputs": [
    {
     "data": {
      "text/plain": [
       "(17627, 22)"
      ]
     },
     "execution_count": 11,
     "metadata": {},
     "output_type": "execute_result"
    }
   ],
   "source": [
    "con_data = pd.concat([train, test], axis=0)\n",
    "con_data.shape"
   ]
  },
  {
   "cell_type": "code",
   "execution_count": 12,
   "id": "3058271e-37d6-4fa5-83b2-8e9196b3f449",
   "metadata": {},
   "outputs": [
    {
     "data": {
      "text/html": [
       "<div>\n",
       "<style scoped>\n",
       "    .dataframe tbody tr th:only-of-type {\n",
       "        vertical-align: middle;\n",
       "    }\n",
       "\n",
       "    .dataframe tbody tr th {\n",
       "        vertical-align: top;\n",
       "    }\n",
       "\n",
       "    .dataframe thead th {\n",
       "        text-align: right;\n",
       "    }\n",
       "</style>\n",
       "<table border=\"1\" class=\"dataframe\">\n",
       "  <thead>\n",
       "    <tr style=\"text-align: right;\">\n",
       "      <th></th>\n",
       "      <th>土地面積</th>\n",
       "      <th>移轉層次</th>\n",
       "      <th>總樓層數</th>\n",
       "      <th>屋齡</th>\n",
       "      <th>建物面積</th>\n",
       "      <th>車位面積</th>\n",
       "      <th>車位個數</th>\n",
       "      <th>橫坐標</th>\n",
       "      <th>縱坐標</th>\n",
       "      <th>主建物面積</th>\n",
       "      <th>...</th>\n",
       "      <th>主要建材_其他</th>\n",
       "      <th>主要建材_加強磚造</th>\n",
       "      <th>主要建材_磚造</th>\n",
       "      <th>主要建材_鋼筋混凝土加強磚造</th>\n",
       "      <th>主要建材_鋼筋混凝土造</th>\n",
       "      <th>主要建材_鋼骨造</th>\n",
       "      <th>建物型態_住宅大樓(11層含以上有電梯)</th>\n",
       "      <th>建物型態_公寓(5樓含以下無電梯)</th>\n",
       "      <th>建物型態_華廈(10層含以下有電梯)</th>\n",
       "      <th>建物型態_透天厝</th>\n",
       "    </tr>\n",
       "  </thead>\n",
       "  <tbody>\n",
       "    <tr>\n",
       "      <th>0</th>\n",
       "      <td>-0.256716</td>\n",
       "      <td>11</td>\n",
       "      <td>11</td>\n",
       "      <td>32.583333</td>\n",
       "      <td>-0.174154</td>\n",
       "      <td>-0.819326</td>\n",
       "      <td>0.0</td>\n",
       "      <td>305266</td>\n",
       "      <td>2768378</td>\n",
       "      <td>0.393926</td>\n",
       "      <td>...</td>\n",
       "      <td>0</td>\n",
       "      <td>0</td>\n",
       "      <td>0</td>\n",
       "      <td>0</td>\n",
       "      <td>1</td>\n",
       "      <td>0</td>\n",
       "      <td>1</td>\n",
       "      <td>0</td>\n",
       "      <td>0</td>\n",
       "      <td>0</td>\n",
       "    </tr>\n",
       "    <tr>\n",
       "      <th>1</th>\n",
       "      <td>0.100134</td>\n",
       "      <td>7</td>\n",
       "      <td>12</td>\n",
       "      <td>24.166667</td>\n",
       "      <td>0.314204</td>\n",
       "      <td>-0.819326</td>\n",
       "      <td>0.0</td>\n",
       "      <td>300677</td>\n",
       "      <td>2767990</td>\n",
       "      <td>-0.316131</td>\n",
       "      <td>...</td>\n",
       "      <td>0</td>\n",
       "      <td>0</td>\n",
       "      <td>0</td>\n",
       "      <td>0</td>\n",
       "      <td>1</td>\n",
       "      <td>0</td>\n",
       "      <td>1</td>\n",
       "      <td>0</td>\n",
       "      <td>0</td>\n",
       "      <td>0</td>\n",
       "    </tr>\n",
       "    <tr>\n",
       "      <th>2</th>\n",
       "      <td>0.181921</td>\n",
       "      <td>10</td>\n",
       "      <td>15</td>\n",
       "      <td>6.166667</td>\n",
       "      <td>0.423366</td>\n",
       "      <td>0.161624</td>\n",
       "      <td>1.0</td>\n",
       "      <td>184815</td>\n",
       "      <td>2504666</td>\n",
       "      <td>-0.098871</td>\n",
       "      <td>...</td>\n",
       "      <td>1</td>\n",
       "      <td>0</td>\n",
       "      <td>0</td>\n",
       "      <td>0</td>\n",
       "      <td>0</td>\n",
       "      <td>0</td>\n",
       "      <td>1</td>\n",
       "      <td>0</td>\n",
       "      <td>0</td>\n",
       "      <td>0</td>\n",
       "    </tr>\n",
       "    <tr>\n",
       "      <th>3</th>\n",
       "      <td>0.085594</td>\n",
       "      <td>9</td>\n",
       "      <td>14</td>\n",
       "      <td>8.833333</td>\n",
       "      <td>0.164249</td>\n",
       "      <td>0.524653</td>\n",
       "      <td>1.0</td>\n",
       "      <td>296653</td>\n",
       "      <td>2772355</td>\n",
       "      <td>-0.071147</td>\n",
       "      <td>...</td>\n",
       "      <td>0</td>\n",
       "      <td>0</td>\n",
       "      <td>0</td>\n",
       "      <td>0</td>\n",
       "      <td>1</td>\n",
       "      <td>0</td>\n",
       "      <td>1</td>\n",
       "      <td>0</td>\n",
       "      <td>0</td>\n",
       "      <td>0</td>\n",
       "    </tr>\n",
       "    <tr>\n",
       "      <th>4</th>\n",
       "      <td>-0.938116</td>\n",
       "      <td>41</td>\n",
       "      <td>43</td>\n",
       "      <td>11.000000</td>\n",
       "      <td>0.985839</td>\n",
       "      <td>0.532377</td>\n",
       "      <td>1.0</td>\n",
       "      <td>297377</td>\n",
       "      <td>2768472</td>\n",
       "      <td>0.791954</td>\n",
       "      <td>...</td>\n",
       "      <td>0</td>\n",
       "      <td>0</td>\n",
       "      <td>0</td>\n",
       "      <td>0</td>\n",
       "      <td>0</td>\n",
       "      <td>1</td>\n",
       "      <td>1</td>\n",
       "      <td>0</td>\n",
       "      <td>0</td>\n",
       "      <td>0</td>\n",
       "    </tr>\n",
       "  </tbody>\n",
       "</table>\n",
       "<p>5 rows × 3732 columns</p>\n",
       "</div>"
      ],
      "text/plain": [
       "       土地面積  移轉層次  總樓層數         屋齡      建物面積      車位面積  車位個數     橫坐標      縱坐標  \\\n",
       "0 -0.256716    11    11  32.583333 -0.174154 -0.819326   0.0  305266  2768378   \n",
       "1  0.100134     7    12  24.166667  0.314204 -0.819326   0.0  300677  2767990   \n",
       "2  0.181921    10    15   6.166667  0.423366  0.161624   1.0  184815  2504666   \n",
       "3  0.085594     9    14   8.833333  0.164249  0.524653   1.0  296653  2772355   \n",
       "4 -0.938116    41    43  11.000000  0.985839  0.532377   1.0  297377  2768472   \n",
       "\n",
       "      主建物面積  ...  主要建材_其他  主要建材_加強磚造  主要建材_磚造  主要建材_鋼筋混凝土加強磚造  主要建材_鋼筋混凝土造  \\\n",
       "0  0.393926  ...        0          0        0               0            1   \n",
       "1 -0.316131  ...        0          0        0               0            1   \n",
       "2 -0.098871  ...        1          0        0               0            0   \n",
       "3 -0.071147  ...        0          0        0               0            1   \n",
       "4  0.791954  ...        0          0        0               0            0   \n",
       "\n",
       "   主要建材_鋼骨造  建物型態_住宅大樓(11層含以上有電梯)  建物型態_公寓(5樓含以下無電梯)  建物型態_華廈(10層含以下有電梯)  \\\n",
       "0         0                     1                  0                   0   \n",
       "1         0                     1                  0                   0   \n",
       "2         0                     1                  0                   0   \n",
       "3         0                     1                  0                   0   \n",
       "4         1                     1                  0                   0   \n",
       "\n",
       "   建物型態_透天厝  \n",
       "0         0  \n",
       "1         0  \n",
       "2         0  \n",
       "3         0  \n",
       "4         0  \n",
       "\n",
       "[5 rows x 3732 columns]"
      ]
     },
     "execution_count": 12,
     "metadata": {},
     "output_type": "execute_result"
    }
   ],
   "source": [
    "con_data = con_data.drop([\"ID\",\"單價\",\"使用分區\",'備註'], axis=1)\n",
    "con_data = pd.get_dummies(con_data, columns=['縣市','鄉鎮市區','路名','主要用途','主要建材','建物型態'])\n",
    "con_data.head(5)"
   ]
  },
  {
   "cell_type": "code",
   "execution_count": 15,
   "id": "6c923838-013e-4b14-931a-4ef2b5fd54dc",
   "metadata": {},
   "outputs": [],
   "source": [
    "X_train = con_data[:11751]\n",
    "X_test = con_data[11751:]"
   ]
  },
  {
   "cell_type": "code",
   "execution_count": 14,
   "id": "5e004ba0-74ce-4c8e-9563-84c557055d47",
   "metadata": {},
   "outputs": [],
   "source": [
    "from sklearn.linear_model import Lasso,LassoCV\n",
    "from sklearn.preprocessing import StandardScaler\n",
    "from sklearn.pipeline import Pipeline\n",
    "import numpy as np"
   ]
  },
  {
   "cell_type": "code",
   "execution_count": 15,
   "id": "70118c28-437d-40af-a9d4-510e8254d508",
   "metadata": {},
   "outputs": [],
   "source": [
    "Y_train = Y_train.values.ravel()"
   ]
  },
  {
   "cell_type": "markdown",
   "id": "a19a0617-6fa6-4a8f-8b33-8ca3cbc47876",
   "metadata": {},
   "source": [
    "### Optimal Alpha by using k-fold\n",
    "measured by metrics such as mean squared error or R-squared score"
   ]
  },
  {
   "cell_type": "code",
   "execution_count": 9,
   "id": "4bab704e-6c8f-4d2e-a285-24d0ecee1c36",
   "metadata": {},
   "outputs": [
    {
     "data": {
      "text/html": [
       "<style>#sk-container-id-1 {color: black;background-color: white;}#sk-container-id-1 pre{padding: 0;}#sk-container-id-1 div.sk-toggleable {background-color: white;}#sk-container-id-1 label.sk-toggleable__label {cursor: pointer;display: block;width: 100%;margin-bottom: 0;padding: 0.3em;box-sizing: border-box;text-align: center;}#sk-container-id-1 label.sk-toggleable__label-arrow:before {content: \"▸\";float: left;margin-right: 0.25em;color: #696969;}#sk-container-id-1 label.sk-toggleable__label-arrow:hover:before {color: black;}#sk-container-id-1 div.sk-estimator:hover label.sk-toggleable__label-arrow:before {color: black;}#sk-container-id-1 div.sk-toggleable__content {max-height: 0;max-width: 0;overflow: hidden;text-align: left;background-color: #f0f8ff;}#sk-container-id-1 div.sk-toggleable__content pre {margin: 0.2em;color: black;border-radius: 0.25em;background-color: #f0f8ff;}#sk-container-id-1 input.sk-toggleable__control:checked~div.sk-toggleable__content {max-height: 200px;max-width: 100%;overflow: auto;}#sk-container-id-1 input.sk-toggleable__control:checked~label.sk-toggleable__label-arrow:before {content: \"▾\";}#sk-container-id-1 div.sk-estimator input.sk-toggleable__control:checked~label.sk-toggleable__label {background-color: #d4ebff;}#sk-container-id-1 div.sk-label input.sk-toggleable__control:checked~label.sk-toggleable__label {background-color: #d4ebff;}#sk-container-id-1 input.sk-hidden--visually {border: 0;clip: rect(1px 1px 1px 1px);clip: rect(1px, 1px, 1px, 1px);height: 1px;margin: -1px;overflow: hidden;padding: 0;position: absolute;width: 1px;}#sk-container-id-1 div.sk-estimator {font-family: monospace;background-color: #f0f8ff;border: 1px dotted black;border-radius: 0.25em;box-sizing: border-box;margin-bottom: 0.5em;}#sk-container-id-1 div.sk-estimator:hover {background-color: #d4ebff;}#sk-container-id-1 div.sk-parallel-item::after {content: \"\";width: 100%;border-bottom: 1px solid gray;flex-grow: 1;}#sk-container-id-1 div.sk-label:hover label.sk-toggleable__label {background-color: #d4ebff;}#sk-container-id-1 div.sk-serial::before {content: \"\";position: absolute;border-left: 1px solid gray;box-sizing: border-box;top: 0;bottom: 0;left: 50%;z-index: 0;}#sk-container-id-1 div.sk-serial {display: flex;flex-direction: column;align-items: center;background-color: white;padding-right: 0.2em;padding-left: 0.2em;position: relative;}#sk-container-id-1 div.sk-item {position: relative;z-index: 1;}#sk-container-id-1 div.sk-parallel {display: flex;align-items: stretch;justify-content: center;background-color: white;position: relative;}#sk-container-id-1 div.sk-item::before, #sk-container-id-1 div.sk-parallel-item::before {content: \"\";position: absolute;border-left: 1px solid gray;box-sizing: border-box;top: 0;bottom: 0;left: 50%;z-index: -1;}#sk-container-id-1 div.sk-parallel-item {display: flex;flex-direction: column;z-index: 1;position: relative;background-color: white;}#sk-container-id-1 div.sk-parallel-item:first-child::after {align-self: flex-end;width: 50%;}#sk-container-id-1 div.sk-parallel-item:last-child::after {align-self: flex-start;width: 50%;}#sk-container-id-1 div.sk-parallel-item:only-child::after {width: 0;}#sk-container-id-1 div.sk-dashed-wrapped {border: 1px dashed gray;margin: 0 0.4em 0.5em 0.4em;box-sizing: border-box;padding-bottom: 0.4em;background-color: white;}#sk-container-id-1 div.sk-label label {font-family: monospace;font-weight: bold;display: inline-block;line-height: 1.2em;}#sk-container-id-1 div.sk-label-container {text-align: center;}#sk-container-id-1 div.sk-container {/* jupyter's `normalize.less` sets `[hidden] { display: none; }` but bootstrap.min.css set `[hidden] { display: none !important; }` so we also need the `!important` here to be able to override the default hidden behavior on the sphinx rendered scikit-learn.org. See: https://github.com/scikit-learn/scikit-learn/issues/21755 */display: inline-block !important;position: relative;}#sk-container-id-1 div.sk-text-repr-fallback {display: none;}</style><div id=\"sk-container-id-1\" class=\"sk-top-container\"><div class=\"sk-text-repr-fallback\"><pre>Pipeline(steps=[(&#x27;lasso&#x27;,\n",
       "                 LassoCV(alphas=array([31.85331213, 31.78306559, 74.12106112, 46.60970619, 22.91126229,\n",
       "       57.73325932, 47.72346789, 50.67594347, 19.90168505,  5.12439343,\n",
       "       73.54749919, 18.53780953, 29.00069431, 72.4531913 , 70.87764306,\n",
       "        9.00552161,  2.36232362, 97.49217883, 31.39016644, 53.38712655,\n",
       "       56.32494506, 73.56274714, 56.09240828, 88.32698237, 50.83716871,\n",
       "       27.2807...\n",
       "       32.21613491,  6.03196661, 70.49441111,  8.593431  , 37.7522946 ,\n",
       "       57.9941768 , 52.64426726, 50.63066185, 16.7136775 , 67.19770309,\n",
       "       22.04706047, 19.11676874, 37.12842115, 83.05988174, 16.61719772,\n",
       "       67.0912001 , 49.43326809, 37.47168891, 53.47394793, 24.01893868,\n",
       "       59.13236998, 66.83283311, 43.55250233, 41.26793473, 58.1550725 ,\n",
       "       36.4076936 , 97.89535207, 90.07600764, 28.88704364, 39.38228891]),\n",
       "                         cv=10, random_state=91))])</pre><b>In a Jupyter environment, please rerun this cell to show the HTML representation or trust the notebook. <br />On GitHub, the HTML representation is unable to render, please try loading this page with nbviewer.org.</b></div><div class=\"sk-container\" hidden><div class=\"sk-item sk-dashed-wrapped\"><div class=\"sk-label-container\"><div class=\"sk-label sk-toggleable\"><input class=\"sk-toggleable__control sk-hidden--visually\" id=\"sk-estimator-id-1\" type=\"checkbox\" ><label for=\"sk-estimator-id-1\" class=\"sk-toggleable__label sk-toggleable__label-arrow\">Pipeline</label><div class=\"sk-toggleable__content\"><pre>Pipeline(steps=[(&#x27;lasso&#x27;,\n",
       "                 LassoCV(alphas=array([31.85331213, 31.78306559, 74.12106112, 46.60970619, 22.91126229,\n",
       "       57.73325932, 47.72346789, 50.67594347, 19.90168505,  5.12439343,\n",
       "       73.54749919, 18.53780953, 29.00069431, 72.4531913 , 70.87764306,\n",
       "        9.00552161,  2.36232362, 97.49217883, 31.39016644, 53.38712655,\n",
       "       56.32494506, 73.56274714, 56.09240828, 88.32698237, 50.83716871,\n",
       "       27.2807...\n",
       "       32.21613491,  6.03196661, 70.49441111,  8.593431  , 37.7522946 ,\n",
       "       57.9941768 , 52.64426726, 50.63066185, 16.7136775 , 67.19770309,\n",
       "       22.04706047, 19.11676874, 37.12842115, 83.05988174, 16.61719772,\n",
       "       67.0912001 , 49.43326809, 37.47168891, 53.47394793, 24.01893868,\n",
       "       59.13236998, 66.83283311, 43.55250233, 41.26793473, 58.1550725 ,\n",
       "       36.4076936 , 97.89535207, 90.07600764, 28.88704364, 39.38228891]),\n",
       "                         cv=10, random_state=91))])</pre></div></div></div><div class=\"sk-serial\"><div class=\"sk-item\"><div class=\"sk-estimator sk-toggleable\"><input class=\"sk-toggleable__control sk-hidden--visually\" id=\"sk-estimator-id-2\" type=\"checkbox\" ><label for=\"sk-estimator-id-2\" class=\"sk-toggleable__label sk-toggleable__label-arrow\">LassoCV</label><div class=\"sk-toggleable__content\"><pre>LassoCV(alphas=array([31.85331213, 31.78306559, 74.12106112, 46.60970619, 22.91126229,\n",
       "       57.73325932, 47.72346789, 50.67594347, 19.90168505,  5.12439343,\n",
       "       73.54749919, 18.53780953, 29.00069431, 72.4531913 , 70.87764306,\n",
       "        9.00552161,  2.36232362, 97.49217883, 31.39016644, 53.38712655,\n",
       "       56.32494506, 73.56274714, 56.09240828, 88.32698237, 50.83716871,\n",
       "       27.2807532 , 37.01283888, 98.254498...\n",
       "       32.21613491,  6.03196661, 70.49441111,  8.593431  , 37.7522946 ,\n",
       "       57.9941768 , 52.64426726, 50.63066185, 16.7136775 , 67.19770309,\n",
       "       22.04706047, 19.11676874, 37.12842115, 83.05988174, 16.61719772,\n",
       "       67.0912001 , 49.43326809, 37.47168891, 53.47394793, 24.01893868,\n",
       "       59.13236998, 66.83283311, 43.55250233, 41.26793473, 58.1550725 ,\n",
       "       36.4076936 , 97.89535207, 90.07600764, 28.88704364, 39.38228891]),\n",
       "        cv=10, random_state=91)</pre></div></div></div></div></div></div></div>"
      ],
      "text/plain": [
       "Pipeline(steps=[('lasso',\n",
       "                 LassoCV(alphas=array([31.85331213, 31.78306559, 74.12106112, 46.60970619, 22.91126229,\n",
       "       57.73325932, 47.72346789, 50.67594347, 19.90168505,  5.12439343,\n",
       "       73.54749919, 18.53780953, 29.00069431, 72.4531913 , 70.87764306,\n",
       "        9.00552161,  2.36232362, 97.49217883, 31.39016644, 53.38712655,\n",
       "       56.32494506, 73.56274714, 56.09240828, 88.32698237, 50.83716871,\n",
       "       27.2807...\n",
       "       32.21613491,  6.03196661, 70.49441111,  8.593431  , 37.7522946 ,\n",
       "       57.9941768 , 52.64426726, 50.63066185, 16.7136775 , 67.19770309,\n",
       "       22.04706047, 19.11676874, 37.12842115, 83.05988174, 16.61719772,\n",
       "       67.0912001 , 49.43326809, 37.47168891, 53.47394793, 24.01893868,\n",
       "       59.13236998, 66.83283311, 43.55250233, 41.26793473, 58.1550725 ,\n",
       "       36.4076936 , 97.89535207, 90.07600764, 28.88704364, 39.38228891]),\n",
       "                         cv=10, random_state=91))])"
      ]
     },
     "execution_count": 9,
     "metadata": {},
     "output_type": "execute_result"
    }
   ],
   "source": [
    "# alphas = np.random.uniform(0,100,500)\n",
    "\n",
    "# # 不需要執行標準化\n",
    "# steps = [\n",
    "#     # ('scaler',StandardScaler()),\n",
    "#     ('lasso',LassoCV(alphas = alphas, cv = 10, random_state = 91))\n",
    "# ]\n",
    "\n",
    "# pipeline = Pipeline(steps)\n",
    "# pipeline.fit(X_train, Y_train)"
   ]
  },
  {
   "cell_type": "code",
   "execution_count": 45,
   "id": "2d5b942b-169e-44fb-9473-8fe5f23c5416",
   "metadata": {},
   "outputs": [
    {
     "data": {
      "text/plain": [
       "0.05358914495500189"
      ]
     },
     "execution_count": 45,
     "metadata": {},
     "output_type": "execute_result"
    }
   ],
   "source": [
    "# best_alpha = pipeline.named_steps['lasso'].alpha_\n",
    "# best_alpha"
   ]
  },
  {
   "cell_type": "code",
   "execution_count": 18,
   "id": "141f7dbf-fd48-400f-933f-54228f726acc",
   "metadata": {},
   "outputs": [],
   "source": [
    "X_train_8 = X_train[:round(11751*0.8)]\n",
    "X_train_2 = X_train[round(11751*0.8):]\n",
    "Y_train_8 = Y_train[:round(11751*0.8)]\n",
    "Y_train_2 = Y_train[round(11751*0.8):]"
   ]
  },
  {
   "cell_type": "code",
   "execution_count": 19,
   "id": "2842d687-cc28-4e7e-ac0a-ac34b15a247f",
   "metadata": {},
   "outputs": [
    {
     "data": {
      "text/html": [
       "<style>#sk-container-id-2 {color: black;background-color: white;}#sk-container-id-2 pre{padding: 0;}#sk-container-id-2 div.sk-toggleable {background-color: white;}#sk-container-id-2 label.sk-toggleable__label {cursor: pointer;display: block;width: 100%;margin-bottom: 0;padding: 0.3em;box-sizing: border-box;text-align: center;}#sk-container-id-2 label.sk-toggleable__label-arrow:before {content: \"▸\";float: left;margin-right: 0.25em;color: #696969;}#sk-container-id-2 label.sk-toggleable__label-arrow:hover:before {color: black;}#sk-container-id-2 div.sk-estimator:hover label.sk-toggleable__label-arrow:before {color: black;}#sk-container-id-2 div.sk-toggleable__content {max-height: 0;max-width: 0;overflow: hidden;text-align: left;background-color: #f0f8ff;}#sk-container-id-2 div.sk-toggleable__content pre {margin: 0.2em;color: black;border-radius: 0.25em;background-color: #f0f8ff;}#sk-container-id-2 input.sk-toggleable__control:checked~div.sk-toggleable__content {max-height: 200px;max-width: 100%;overflow: auto;}#sk-container-id-2 input.sk-toggleable__control:checked~label.sk-toggleable__label-arrow:before {content: \"▾\";}#sk-container-id-2 div.sk-estimator input.sk-toggleable__control:checked~label.sk-toggleable__label {background-color: #d4ebff;}#sk-container-id-2 div.sk-label input.sk-toggleable__control:checked~label.sk-toggleable__label {background-color: #d4ebff;}#sk-container-id-2 input.sk-hidden--visually {border: 0;clip: rect(1px 1px 1px 1px);clip: rect(1px, 1px, 1px, 1px);height: 1px;margin: -1px;overflow: hidden;padding: 0;position: absolute;width: 1px;}#sk-container-id-2 div.sk-estimator {font-family: monospace;background-color: #f0f8ff;border: 1px dotted black;border-radius: 0.25em;box-sizing: border-box;margin-bottom: 0.5em;}#sk-container-id-2 div.sk-estimator:hover {background-color: #d4ebff;}#sk-container-id-2 div.sk-parallel-item::after {content: \"\";width: 100%;border-bottom: 1px solid gray;flex-grow: 1;}#sk-container-id-2 div.sk-label:hover label.sk-toggleable__label {background-color: #d4ebff;}#sk-container-id-2 div.sk-serial::before {content: \"\";position: absolute;border-left: 1px solid gray;box-sizing: border-box;top: 0;bottom: 0;left: 50%;z-index: 0;}#sk-container-id-2 div.sk-serial {display: flex;flex-direction: column;align-items: center;background-color: white;padding-right: 0.2em;padding-left: 0.2em;position: relative;}#sk-container-id-2 div.sk-item {position: relative;z-index: 1;}#sk-container-id-2 div.sk-parallel {display: flex;align-items: stretch;justify-content: center;background-color: white;position: relative;}#sk-container-id-2 div.sk-item::before, #sk-container-id-2 div.sk-parallel-item::before {content: \"\";position: absolute;border-left: 1px solid gray;box-sizing: border-box;top: 0;bottom: 0;left: 50%;z-index: -1;}#sk-container-id-2 div.sk-parallel-item {display: flex;flex-direction: column;z-index: 1;position: relative;background-color: white;}#sk-container-id-2 div.sk-parallel-item:first-child::after {align-self: flex-end;width: 50%;}#sk-container-id-2 div.sk-parallel-item:last-child::after {align-self: flex-start;width: 50%;}#sk-container-id-2 div.sk-parallel-item:only-child::after {width: 0;}#sk-container-id-2 div.sk-dashed-wrapped {border: 1px dashed gray;margin: 0 0.4em 0.5em 0.4em;box-sizing: border-box;padding-bottom: 0.4em;background-color: white;}#sk-container-id-2 div.sk-label label {font-family: monospace;font-weight: bold;display: inline-block;line-height: 1.2em;}#sk-container-id-2 div.sk-label-container {text-align: center;}#sk-container-id-2 div.sk-container {/* jupyter's `normalize.less` sets `[hidden] { display: none; }` but bootstrap.min.css set `[hidden] { display: none !important; }` so we also need the `!important` here to be able to override the default hidden behavior on the sphinx rendered scikit-learn.org. See: https://github.com/scikit-learn/scikit-learn/issues/21755 */display: inline-block !important;position: relative;}#sk-container-id-2 div.sk-text-repr-fallback {display: none;}</style><div id=\"sk-container-id-2\" class=\"sk-top-container\"><div class=\"sk-text-repr-fallback\"><pre>Lasso(alpha=0.00099, max_iter=50000)</pre><b>In a Jupyter environment, please rerun this cell to show the HTML representation or trust the notebook. <br />On GitHub, the HTML representation is unable to render, please try loading this page with nbviewer.org.</b></div><div class=\"sk-container\" hidden><div class=\"sk-item\"><div class=\"sk-estimator sk-toggleable\"><input class=\"sk-toggleable__control sk-hidden--visually\" id=\"sk-estimator-id-2\" type=\"checkbox\" checked><label for=\"sk-estimator-id-2\" class=\"sk-toggleable__label sk-toggleable__label-arrow\">Lasso</label><div class=\"sk-toggleable__content\"><pre>Lasso(alpha=0.00099, max_iter=50000)</pre></div></div></div></div></div>"
      ],
      "text/plain": [
       "Lasso(alpha=0.00099, max_iter=50000)"
      ]
     },
     "execution_count": 19,
     "metadata": {},
     "output_type": "execute_result"
    }
   ],
   "source": [
    "best_alpha = 0.00099\n",
    "model = Lasso(alpha = best_alpha, max_iter = 50000)\n",
    "model.fit(X_train_8, Y_train_8)"
   ]
  },
  {
   "cell_type": "code",
   "execution_count": 26,
   "id": "44f20c32-367c-415d-b995-1f72331d4c8e",
   "metadata": {},
   "outputs": [
    {
     "data": {
      "text/plain": [
       "14.590137871509684"
      ]
     },
     "execution_count": 26,
     "metadata": {},
     "output_type": "execute_result"
    }
   ],
   "source": [
    "pred = model.predict(X_train_2)\n",
    "mape = np.mean(np.abs((Y_train_2 - pred) / Y_train_2)) * 100\n",
    "mape"
   ]
  },
  {
   "cell_type": "code",
   "execution_count": 17,
   "id": "b26feeb3-6432-4b5d-bed6-78deed52d259",
   "metadata": {},
   "outputs": [
    {
     "data": {
      "text/html": [
       "<style>#sk-container-id-1 {color: black;background-color: white;}#sk-container-id-1 pre{padding: 0;}#sk-container-id-1 div.sk-toggleable {background-color: white;}#sk-container-id-1 label.sk-toggleable__label {cursor: pointer;display: block;width: 100%;margin-bottom: 0;padding: 0.3em;box-sizing: border-box;text-align: center;}#sk-container-id-1 label.sk-toggleable__label-arrow:before {content: \"▸\";float: left;margin-right: 0.25em;color: #696969;}#sk-container-id-1 label.sk-toggleable__label-arrow:hover:before {color: black;}#sk-container-id-1 div.sk-estimator:hover label.sk-toggleable__label-arrow:before {color: black;}#sk-container-id-1 div.sk-toggleable__content {max-height: 0;max-width: 0;overflow: hidden;text-align: left;background-color: #f0f8ff;}#sk-container-id-1 div.sk-toggleable__content pre {margin: 0.2em;color: black;border-radius: 0.25em;background-color: #f0f8ff;}#sk-container-id-1 input.sk-toggleable__control:checked~div.sk-toggleable__content {max-height: 200px;max-width: 100%;overflow: auto;}#sk-container-id-1 input.sk-toggleable__control:checked~label.sk-toggleable__label-arrow:before {content: \"▾\";}#sk-container-id-1 div.sk-estimator input.sk-toggleable__control:checked~label.sk-toggleable__label {background-color: #d4ebff;}#sk-container-id-1 div.sk-label input.sk-toggleable__control:checked~label.sk-toggleable__label {background-color: #d4ebff;}#sk-container-id-1 input.sk-hidden--visually {border: 0;clip: rect(1px 1px 1px 1px);clip: rect(1px, 1px, 1px, 1px);height: 1px;margin: -1px;overflow: hidden;padding: 0;position: absolute;width: 1px;}#sk-container-id-1 div.sk-estimator {font-family: monospace;background-color: #f0f8ff;border: 1px dotted black;border-radius: 0.25em;box-sizing: border-box;margin-bottom: 0.5em;}#sk-container-id-1 div.sk-estimator:hover {background-color: #d4ebff;}#sk-container-id-1 div.sk-parallel-item::after {content: \"\";width: 100%;border-bottom: 1px solid gray;flex-grow: 1;}#sk-container-id-1 div.sk-label:hover label.sk-toggleable__label {background-color: #d4ebff;}#sk-container-id-1 div.sk-serial::before {content: \"\";position: absolute;border-left: 1px solid gray;box-sizing: border-box;top: 0;bottom: 0;left: 50%;z-index: 0;}#sk-container-id-1 div.sk-serial {display: flex;flex-direction: column;align-items: center;background-color: white;padding-right: 0.2em;padding-left: 0.2em;position: relative;}#sk-container-id-1 div.sk-item {position: relative;z-index: 1;}#sk-container-id-1 div.sk-parallel {display: flex;align-items: stretch;justify-content: center;background-color: white;position: relative;}#sk-container-id-1 div.sk-item::before, #sk-container-id-1 div.sk-parallel-item::before {content: \"\";position: absolute;border-left: 1px solid gray;box-sizing: border-box;top: 0;bottom: 0;left: 50%;z-index: -1;}#sk-container-id-1 div.sk-parallel-item {display: flex;flex-direction: column;z-index: 1;position: relative;background-color: white;}#sk-container-id-1 div.sk-parallel-item:first-child::after {align-self: flex-end;width: 50%;}#sk-container-id-1 div.sk-parallel-item:last-child::after {align-self: flex-start;width: 50%;}#sk-container-id-1 div.sk-parallel-item:only-child::after {width: 0;}#sk-container-id-1 div.sk-dashed-wrapped {border: 1px dashed gray;margin: 0 0.4em 0.5em 0.4em;box-sizing: border-box;padding-bottom: 0.4em;background-color: white;}#sk-container-id-1 div.sk-label label {font-family: monospace;font-weight: bold;display: inline-block;line-height: 1.2em;}#sk-container-id-1 div.sk-label-container {text-align: center;}#sk-container-id-1 div.sk-container {/* jupyter's `normalize.less` sets `[hidden] { display: none; }` but bootstrap.min.css set `[hidden] { display: none !important; }` so we also need the `!important` here to be able to override the default hidden behavior on the sphinx rendered scikit-learn.org. See: https://github.com/scikit-learn/scikit-learn/issues/21755 */display: inline-block !important;position: relative;}#sk-container-id-1 div.sk-text-repr-fallback {display: none;}</style><div id=\"sk-container-id-1\" class=\"sk-top-container\"><div class=\"sk-text-repr-fallback\"><pre>Lasso(alpha=0.00099, max_iter=50000)</pre><b>In a Jupyter environment, please rerun this cell to show the HTML representation or trust the notebook. <br />On GitHub, the HTML representation is unable to render, please try loading this page with nbviewer.org.</b></div><div class=\"sk-container\" hidden><div class=\"sk-item\"><div class=\"sk-estimator sk-toggleable\"><input class=\"sk-toggleable__control sk-hidden--visually\" id=\"sk-estimator-id-1\" type=\"checkbox\" checked><label for=\"sk-estimator-id-1\" class=\"sk-toggleable__label sk-toggleable__label-arrow\">Lasso</label><div class=\"sk-toggleable__content\"><pre>Lasso(alpha=0.00099, max_iter=50000)</pre></div></div></div></div></div>"
      ],
      "text/plain": [
       "Lasso(alpha=0.00099, max_iter=50000)"
      ]
     },
     "execution_count": 17,
     "metadata": {},
     "output_type": "execute_result"
    }
   ],
   "source": [
    "best_alpha = 0.00099\n",
    "model = Lasso(alpha = best_alpha, max_iter = 50000)\n",
    "# model = Lasso()\n",
    "model.fit(X_train, Y_train)"
   ]
  },
  {
   "cell_type": "code",
   "execution_count": 11,
   "id": "3a52164e-3742-43d7-96a1-1fde867a8e77",
   "metadata": {},
   "outputs": [
    {
     "data": {
      "text/plain": [
       "array([2.17842699, 2.25920205, 2.26505733, ..., 2.31545739, 2.37182924,\n",
       "       2.27723923])"
      ]
     },
     "execution_count": 11,
     "metadata": {},
     "output_type": "execute_result"
    }
   ],
   "source": [
    "pred = model.predict(X_test)\n",
    "pred"
   ]
  },
  {
   "cell_type": "code",
   "execution_count": 13,
   "id": "9f0480fd-97b4-4b1b-a1c6-c1bde6b6cf34",
   "metadata": {},
   "outputs": [
    {
     "data": {
      "text/html": [
       "<div>\n",
       "<style scoped>\n",
       "    .dataframe tbody tr th:only-of-type {\n",
       "        vertical-align: middle;\n",
       "    }\n",
       "\n",
       "    .dataframe tbody tr th {\n",
       "        vertical-align: top;\n",
       "    }\n",
       "\n",
       "    .dataframe thead th {\n",
       "        text-align: right;\n",
       "    }\n",
       "</style>\n",
       "<table border=\"1\" class=\"dataframe\">\n",
       "  <thead>\n",
       "    <tr style=\"text-align: right;\">\n",
       "      <th></th>\n",
       "      <th>ID</th>\n",
       "      <th>predicted_price</th>\n",
       "    </tr>\n",
       "  </thead>\n",
       "  <tbody>\n",
       "    <tr>\n",
       "      <th>0</th>\n",
       "      <td>PU-1</td>\n",
       "      <td>0.0</td>\n",
       "    </tr>\n",
       "    <tr>\n",
       "      <th>1</th>\n",
       "      <td>PU-2</td>\n",
       "      <td>0.0</td>\n",
       "    </tr>\n",
       "    <tr>\n",
       "      <th>2</th>\n",
       "      <td>PU-3</td>\n",
       "      <td>0.0</td>\n",
       "    </tr>\n",
       "    <tr>\n",
       "      <th>3</th>\n",
       "      <td>PU-4</td>\n",
       "      <td>0.0</td>\n",
       "    </tr>\n",
       "    <tr>\n",
       "      <th>4</th>\n",
       "      <td>PU-5</td>\n",
       "      <td>0.0</td>\n",
       "    </tr>\n",
       "    <tr>\n",
       "      <th>...</th>\n",
       "      <td>...</td>\n",
       "      <td>...</td>\n",
       "    </tr>\n",
       "    <tr>\n",
       "      <th>5871</th>\n",
       "      <td>PU-5872</td>\n",
       "      <td>0.0</td>\n",
       "    </tr>\n",
       "    <tr>\n",
       "      <th>5872</th>\n",
       "      <td>PU-5873</td>\n",
       "      <td>0.0</td>\n",
       "    </tr>\n",
       "    <tr>\n",
       "      <th>5873</th>\n",
       "      <td>PU-5874</td>\n",
       "      <td>0.0</td>\n",
       "    </tr>\n",
       "    <tr>\n",
       "      <th>5874</th>\n",
       "      <td>PU-5875</td>\n",
       "      <td>0.0</td>\n",
       "    </tr>\n",
       "    <tr>\n",
       "      <th>5875</th>\n",
       "      <td>PU-5876</td>\n",
       "      <td>0.0</td>\n",
       "    </tr>\n",
       "  </tbody>\n",
       "</table>\n",
       "<p>5876 rows × 2 columns</p>\n",
       "</div>"
      ],
      "text/plain": [
       "           ID  predicted_price\n",
       "0        PU-1              0.0\n",
       "1        PU-2              0.0\n",
       "2        PU-3              0.0\n",
       "3        PU-4              0.0\n",
       "4        PU-5              0.0\n",
       "...       ...              ...\n",
       "5871  PU-5872              0.0\n",
       "5872  PU-5873              0.0\n",
       "5873  PU-5874              0.0\n",
       "5874  PU-5875              0.0\n",
       "5875  PU-5876              0.0\n",
       "\n",
       "[5876 rows x 2 columns]"
      ]
     },
     "execution_count": 13,
     "metadata": {},
     "output_type": "execute_result"
    }
   ],
   "source": [
    "result = pd.read_csv(\"30_Public Dataset_Public Sumission Template_v2/public_submission_template.csv\")\n",
    "result['predicted_price'] = pred\n",
    "result.to_csv(\"./result.csv\", index=False)"
   ]
  }
 ],
 "metadata": {
  "kernelspec": {
   "display_name": "Python 3 (ipykernel)",
   "language": "python",
   "name": "python3"
  },
  "language_info": {
   "codemirror_mode": {
    "name": "ipython",
    "version": 3
   },
   "file_extension": ".py",
   "mimetype": "text/x-python",
   "name": "python",
   "nbconvert_exporter": "python",
   "pygments_lexer": "ipython3",
   "version": "3.9.12"
  }
 },
 "nbformat": 4,
 "nbformat_minor": 5
}
