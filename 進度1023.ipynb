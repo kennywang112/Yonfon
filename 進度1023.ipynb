{
 "cells": [
  {
   "cell_type": "code",
   "execution_count": 1,
   "id": "62ce6f7d-219c-4ebf-a0a8-5e4b8f072d87",
   "metadata": {},
   "outputs": [],
   "source": [
    "import pandas as pd\n",
    "import requests\n",
    "from bs4 import BeautifulSoup\n",
    "import pyproj\n",
    "import geopandas as gpd\n",
    "from shapely.geometry import Point"
   ]
  },
  {
   "cell_type": "code",
   "execution_count": 2,
   "id": "06366604-5c82-46be-9d41-26a0d18cfd43",
   "metadata": {},
   "outputs": [
    {
     "data": {
      "text/html": [
       "<div>\n",
       "<style scoped>\n",
       "    .dataframe tbody tr th:only-of-type {\n",
       "        vertical-align: middle;\n",
       "    }\n",
       "\n",
       "    .dataframe tbody tr th {\n",
       "        vertical-align: top;\n",
       "    }\n",
       "\n",
       "    .dataframe thead th {\n",
       "        text-align: right;\n",
       "    }\n",
       "</style>\n",
       "<table border=\"1\" class=\"dataframe\">\n",
       "  <thead>\n",
       "    <tr style=\"text-align: right;\">\n",
       "      <th></th>\n",
       "      <th>ID</th>\n",
       "      <th>縣市</th>\n",
       "      <th>鄉鎮市區</th>\n",
       "      <th>路名</th>\n",
       "      <th>土地面積</th>\n",
       "      <th>使用分區</th>\n",
       "      <th>移轉層次</th>\n",
       "      <th>總樓層數</th>\n",
       "      <th>主要用途</th>\n",
       "      <th>主要建材</th>\n",
       "      <th>...</th>\n",
       "      <th>建物面積</th>\n",
       "      <th>車位面積</th>\n",
       "      <th>車位個數</th>\n",
       "      <th>橫坐標</th>\n",
       "      <th>縱坐標</th>\n",
       "      <th>備註</th>\n",
       "      <th>主建物面積</th>\n",
       "      <th>陽台面積</th>\n",
       "      <th>附屬建物面積</th>\n",
       "      <th>單價</th>\n",
       "    </tr>\n",
       "  </thead>\n",
       "  <tbody>\n",
       "    <tr>\n",
       "      <th>0</th>\n",
       "      <td>TR-1</td>\n",
       "      <td>台北市</td>\n",
       "      <td>大安區</td>\n",
       "      <td>敦化南路二段</td>\n",
       "      <td>-0.256716</td>\n",
       "      <td>None</td>\n",
       "      <td>11</td>\n",
       "      <td>11</td>\n",
       "      <td>住家用</td>\n",
       "      <td>鋼筋混凝土造</td>\n",
       "      <td>...</td>\n",
       "      <td>-0.174154</td>\n",
       "      <td>-0.819326</td>\n",
       "      <td>0.0</td>\n",
       "      <td>305266</td>\n",
       "      <td>2768378</td>\n",
       "      <td>NaN</td>\n",
       "      <td>0.393926</td>\n",
       "      <td>0.183700</td>\n",
       "      <td>-0.438452</td>\n",
       "      <td>4.627714</td>\n",
       "    </tr>\n",
       "    <tr>\n",
       "      <th>1</th>\n",
       "      <td>TR-2</td>\n",
       "      <td>台北市</td>\n",
       "      <td>萬華區</td>\n",
       "      <td>水源路</td>\n",
       "      <td>0.100134</td>\n",
       "      <td>None</td>\n",
       "      <td>7</td>\n",
       "      <td>12</td>\n",
       "      <td>住家用</td>\n",
       "      <td>鋼筋混凝土造</td>\n",
       "      <td>...</td>\n",
       "      <td>0.314204</td>\n",
       "      <td>-0.819326</td>\n",
       "      <td>0.0</td>\n",
       "      <td>300677</td>\n",
       "      <td>2767990</td>\n",
       "      <td>NaN</td>\n",
       "      <td>-0.316131</td>\n",
       "      <td>0.608577</td>\n",
       "      <td>-0.438452</td>\n",
       "      <td>1.887258</td>\n",
       "    </tr>\n",
       "    <tr>\n",
       "      <th>2</th>\n",
       "      <td>TR-3</td>\n",
       "      <td>高雄市</td>\n",
       "      <td>鳳山區</td>\n",
       "      <td>北忠街</td>\n",
       "      <td>0.181921</td>\n",
       "      <td>None</td>\n",
       "      <td>10</td>\n",
       "      <td>15</td>\n",
       "      <td>集合住宅</td>\n",
       "      <td>其他</td>\n",
       "      <td>...</td>\n",
       "      <td>0.423366</td>\n",
       "      <td>0.161624</td>\n",
       "      <td>1.0</td>\n",
       "      <td>184815</td>\n",
       "      <td>2504666</td>\n",
       "      <td>NaN</td>\n",
       "      <td>-0.098871</td>\n",
       "      <td>-0.360620</td>\n",
       "      <td>1.525881</td>\n",
       "      <td>1.489072</td>\n",
       "    </tr>\n",
       "    <tr>\n",
       "      <th>3</th>\n",
       "      <td>TR-4</td>\n",
       "      <td>新北市</td>\n",
       "      <td>新莊區</td>\n",
       "      <td>福前街</td>\n",
       "      <td>0.085594</td>\n",
       "      <td>None</td>\n",
       "      <td>9</td>\n",
       "      <td>14</td>\n",
       "      <td>集合住宅</td>\n",
       "      <td>鋼筋混凝土造</td>\n",
       "      <td>...</td>\n",
       "      <td>0.164249</td>\n",
       "      <td>0.524653</td>\n",
       "      <td>1.0</td>\n",
       "      <td>296653</td>\n",
       "      <td>2772355</td>\n",
       "      <td>NaN</td>\n",
       "      <td>-0.071147</td>\n",
       "      <td>0.315088</td>\n",
       "      <td>0.231984</td>\n",
       "      <td>2.051217</td>\n",
       "    </tr>\n",
       "    <tr>\n",
       "      <th>4</th>\n",
       "      <td>TR-5</td>\n",
       "      <td>新北市</td>\n",
       "      <td>板橋區</td>\n",
       "      <td>文化路一段</td>\n",
       "      <td>-0.938116</td>\n",
       "      <td>None</td>\n",
       "      <td>41</td>\n",
       "      <td>43</td>\n",
       "      <td>住家用</td>\n",
       "      <td>鋼骨造</td>\n",
       "      <td>...</td>\n",
       "      <td>0.985839</td>\n",
       "      <td>0.532377</td>\n",
       "      <td>1.0</td>\n",
       "      <td>297377</td>\n",
       "      <td>2768472</td>\n",
       "      <td>NaN</td>\n",
       "      <td>0.791954</td>\n",
       "      <td>1.719400</td>\n",
       "      <td>-0.438452</td>\n",
       "      <td>3.269198</td>\n",
       "    </tr>\n",
       "  </tbody>\n",
       "</table>\n",
       "<p>5 rows × 22 columns</p>\n",
       "</div>"
      ],
      "text/plain": [
       "     ID   縣市 鄉鎮市區      路名      土地面積  使用分區  移轉層次  總樓層數  主要用途    主要建材  ...  \\\n",
       "0  TR-1  台北市  大安區  敦化南路二段 -0.256716  None    11    11   住家用  鋼筋混凝土造  ...   \n",
       "1  TR-2  台北市  萬華區     水源路  0.100134  None     7    12   住家用  鋼筋混凝土造  ...   \n",
       "2  TR-3  高雄市  鳳山區     北忠街  0.181921  None    10    15  集合住宅      其他  ...   \n",
       "3  TR-4  新北市  新莊區     福前街  0.085594  None     9    14  集合住宅  鋼筋混凝土造  ...   \n",
       "4  TR-5  新北市  板橋區   文化路一段 -0.938116  None    41    43   住家用     鋼骨造  ...   \n",
       "\n",
       "       建物面積      車位面積  車位個數     橫坐標      縱坐標   備註     主建物面積      陽台面積  \\\n",
       "0 -0.174154 -0.819326   0.0  305266  2768378  NaN  0.393926  0.183700   \n",
       "1  0.314204 -0.819326   0.0  300677  2767990  NaN -0.316131  0.608577   \n",
       "2  0.423366  0.161624   1.0  184815  2504666  NaN -0.098871 -0.360620   \n",
       "3  0.164249  0.524653   1.0  296653  2772355  NaN -0.071147  0.315088   \n",
       "4  0.985839  0.532377   1.0  297377  2768472  NaN  0.791954  1.719400   \n",
       "\n",
       "     附屬建物面積        單價  \n",
       "0 -0.438452  4.627714  \n",
       "1 -0.438452  1.887258  \n",
       "2  1.525881  1.489072  \n",
       "3  0.231984  2.051217  \n",
       "4 -0.438452  3.269198  \n",
       "\n",
       "[5 rows x 22 columns]"
      ]
     },
     "execution_count": 2,
     "metadata": {},
     "output_type": "execute_result"
    }
   ],
   "source": [
    "train = pd.read_csv(\"30_Training Dataset_V2/training_data.csv\")\n",
    "train.head()"
   ]
  },
  {
   "cell_type": "markdown",
   "id": "0eda15d5-8415-458d-a7be-e24da4e7c8b6",
   "metadata": {},
   "source": [
    "# 計算最近設施實際距離"
   ]
  },
  {
   "cell_type": "code",
   "execution_count": 3,
   "id": "fd360d48-c157-4226-99ba-8116d20fc1a2",
   "metadata": {},
   "outputs": [
    {
     "data": {
      "text/html": [
       "<div>\n",
       "<style scoped>\n",
       "    .dataframe tbody tr th:only-of-type {\n",
       "        vertical-align: middle;\n",
       "    }\n",
       "\n",
       "    .dataframe tbody tr th {\n",
       "        vertical-align: top;\n",
       "    }\n",
       "\n",
       "    .dataframe thead th {\n",
       "        text-align: right;\n",
       "    }\n",
       "</style>\n",
       "<table border=\"1\" class=\"dataframe\">\n",
       "  <thead>\n",
       "    <tr style=\"text-align: right;\">\n",
       "      <th></th>\n",
       "      <th>縣市代號</th>\n",
       "      <th>縣市</th>\n",
       "      <th>大類別</th>\n",
       "      <th>小類別代號</th>\n",
       "      <th>小類別名稱</th>\n",
       "      <th>地標名稱</th>\n",
       "      <th>緯度</th>\n",
       "      <th>經度</th>\n",
       "    </tr>\n",
       "  </thead>\n",
       "  <tbody>\n",
       "    <tr>\n",
       "      <th>0</th>\n",
       "      <td>A</td>\n",
       "      <td>臺北市</td>\n",
       "      <td>交通運輸</td>\n",
       "      <td>11</td>\n",
       "      <td>火車站</td>\n",
       "      <td>臺北市臺鐵南港車站</td>\n",
       "      <td>25.053541</td>\n",
       "      <td>121.607264</td>\n",
       "    </tr>\n",
       "    <tr>\n",
       "      <th>1</th>\n",
       "      <td>A</td>\n",
       "      <td>臺北市</td>\n",
       "      <td>交通運輸</td>\n",
       "      <td>11</td>\n",
       "      <td>火車站</td>\n",
       "      <td>臺北市臺鐵松山車站</td>\n",
       "      <td>25.049244</td>\n",
       "      <td>121.578933</td>\n",
       "    </tr>\n",
       "    <tr>\n",
       "      <th>2</th>\n",
       "      <td>A</td>\n",
       "      <td>臺北市</td>\n",
       "      <td>交通運輸</td>\n",
       "      <td>11</td>\n",
       "      <td>火車站</td>\n",
       "      <td>臺北市臺鐵臺北車站</td>\n",
       "      <td>25.047379</td>\n",
       "      <td>121.516891</td>\n",
       "    </tr>\n",
       "    <tr>\n",
       "      <th>3</th>\n",
       "      <td>A</td>\n",
       "      <td>臺北市</td>\n",
       "      <td>交通運輸</td>\n",
       "      <td>11</td>\n",
       "      <td>火車站</td>\n",
       "      <td>松山火車站</td>\n",
       "      <td>25.049388</td>\n",
       "      <td>121.579563</td>\n",
       "    </tr>\n",
       "    <tr>\n",
       "      <th>4</th>\n",
       "      <td>A</td>\n",
       "      <td>臺北市</td>\n",
       "      <td>交通運輸</td>\n",
       "      <td>11</td>\n",
       "      <td>火車站</td>\n",
       "      <td>南港火車站</td>\n",
       "      <td>25.053683</td>\n",
       "      <td>121.606943</td>\n",
       "    </tr>\n",
       "  </tbody>\n",
       "</table>\n",
       "</div>"
      ],
      "text/plain": [
       "  縣市代號   縣市   大類別  小類別代號 小類別名稱       地標名稱         緯度          經度\n",
       "0    A  臺北市  交通運輸     11   火車站  臺北市臺鐵南港車站  25.053541  121.607264\n",
       "1    A  臺北市  交通運輸     11   火車站  臺北市臺鐵松山車站  25.049244  121.578933\n",
       "2    A  臺北市  交通運輸     11   火車站  臺北市臺鐵臺北車站  25.047379  121.516891\n",
       "3    A  臺北市  交通運輸     11   火車站      松山火車站  25.049388  121.579563\n",
       "4    A  臺北市  交通運輸     11   火車站      南港火車站  25.053683  121.606943"
      ]
     },
     "execution_count": 3,
     "metadata": {},
     "output_type": "execute_result"
    }
   ],
   "source": [
    "facility_data = pd.read_csv(\"landmark.csv\")\n",
    "facility_data.head(5)"
   ]
  },
  {
   "cell_type": "code",
   "execution_count": 4,
   "id": "53d6c654-f20c-4e0f-b59d-eec4dfa42fe6",
   "metadata": {},
   "outputs": [
    {
     "data": {
      "text/plain": [
       "(58323, 8)"
      ]
     },
     "execution_count": 4,
     "metadata": {},
     "output_type": "execute_result"
    }
   ],
   "source": [
    "facility_data.shape"
   ]
  },
  {
   "cell_type": "markdown",
   "id": "d9c5dbdd-7422-4f91-9eb9-3501167906d7",
   "metadata": {},
   "source": [
    "## 篩選重要設施\n",
    "- 交通：火車站、客運站、捷運站、高鐵站\n",
    "- 教育：國小、國中、幼稚園、托兒所\n",
    "- 公園：一般公園、里鄰公園\n",
    "- 娛樂：娛樂設施、商店、超級市場、大型購物中心、百貨公司\n",
    "- 其他：醫療保健、金融機構、加油站\n",
    "- 嫌惡設施：產業用水及設施、工廠、主要道路建設"
   ]
  },
  {
   "cell_type": "code",
   "execution_count": 5,
   "id": "53d0fc1d-4ed3-4331-9ddf-c1d42296ef1d",
   "metadata": {},
   "outputs": [
    {
     "data": {
      "text/plain": [
       "array(['火車站', '客運站', '捷運站', '飯店', '碼頭', '高鐵站', '航空站', '主要道路建設', '國小',\n",
       "       '國中', '高中', '專科', '大學及研究所', '幼稚園、托兒所', '傳統市場', '生活百貨量販', '一般公園',\n",
       "       '里鄰公園', '觀光遊憩設施', '停車場地', '服務性設施', '行政機關', '醫療保健', '加油站', '百貨公司',\n",
       "       '金融機構', '娛樂設施', '電力資源', '產業用水及設施', '工廠', '商店', '超級市場', '大型購物中心'],\n",
       "      dtype=object)"
      ]
     },
     "execution_count": 5,
     "metadata": {},
     "output_type": "execute_result"
    }
   ],
   "source": [
    "facility_data['小類別名稱'].unique()"
   ]
  },
  {
   "cell_type": "code",
   "execution_count": 6,
   "id": "6229798c-89a9-49e1-9102-faad99ecf9da",
   "metadata": {},
   "outputs": [
    {
     "data": {
      "text/html": [
       "<div>\n",
       "<style scoped>\n",
       "    .dataframe tbody tr th:only-of-type {\n",
       "        vertical-align: middle;\n",
       "    }\n",
       "\n",
       "    .dataframe tbody tr th {\n",
       "        vertical-align: top;\n",
       "    }\n",
       "\n",
       "    .dataframe thead th {\n",
       "        text-align: right;\n",
       "    }\n",
       "</style>\n",
       "<table border=\"1\" class=\"dataframe\">\n",
       "  <thead>\n",
       "    <tr style=\"text-align: right;\">\n",
       "      <th></th>\n",
       "      <th>最近火車站</th>\n",
       "      <th>最近客運站</th>\n",
       "      <th>最近捷運站</th>\n",
       "      <th>最近飯店</th>\n",
       "      <th>最近碼頭</th>\n",
       "      <th>最近高鐵站</th>\n",
       "      <th>最近航空站</th>\n",
       "      <th>最近主要道路建設</th>\n",
       "      <th>最近國小</th>\n",
       "      <th>最近國中</th>\n",
       "      <th>...</th>\n",
       "      <th>最近加油站</th>\n",
       "      <th>最近百貨公司</th>\n",
       "      <th>最近金融機構</th>\n",
       "      <th>最近娛樂設施</th>\n",
       "      <th>最近電力資源</th>\n",
       "      <th>最近產業用水及設施</th>\n",
       "      <th>最近工廠</th>\n",
       "      <th>最近商店</th>\n",
       "      <th>最近超級市場</th>\n",
       "      <th>最近大型購物中心</th>\n",
       "    </tr>\n",
       "  </thead>\n",
       "  <tbody>\n",
       "  </tbody>\n",
       "</table>\n",
       "<p>0 rows × 33 columns</p>\n",
       "</div>"
      ],
      "text/plain": [
       "Empty DataFrame\n",
       "Columns: [最近火車站, 最近客運站, 最近捷運站, 最近飯店, 最近碼頭, 最近高鐵站, 最近航空站, 最近主要道路建設, 最近國小, 最近國中, 最近高中, 最近專科, 最近大學及研究所, 最近幼稚園、托兒所, 最近傳統市場, 最近生活百貨量販, 最近一般公園, 最近里鄰公園, 最近觀光遊憩設施, 最近停車場地, 最近服務性設施, 最近行政機關, 最近醫療保健, 最近加油站, 最近百貨公司, 最近金融機構, 最近娛樂設施, 最近電力資源, 最近產業用水及設施, 最近工廠, 最近商店, 最近超級市場, 最近大型購物中心]\n",
       "Index: []\n",
       "\n",
       "[0 rows x 33 columns]"
      ]
     },
     "execution_count": 6,
     "metadata": {},
     "output_type": "execute_result"
    }
   ],
   "source": [
    "data = {}\n",
    "for i in facility_data['小類別名稱'].unique():\n",
    "    data['最近'+i] = []\n",
    "df = pd.DataFrame(data)\n",
    "df"
   ]
  },
  {
   "cell_type": "code",
   "execution_count": 7,
   "id": "bcfc5191-079b-46ca-aff1-aad99142da17",
   "metadata": {},
   "outputs": [],
   "source": [
    "def train_coordination(x):\n",
    "  x1, y1 = x['橫坐標'] ,x['縱坐標']\n",
    "  proj = pyproj.Transformer.from_crs(3826, 4326, always_xy=True)\n",
    "  x2, y2 = proj.transform(x1, y1)\n",
    "  return x2, y2\n",
    "\n",
    "train[['lon','lat']] = train.apply(train_coordination,axis=1,result_type='expand')\n",
    "new_train = train.drop(['橫坐標','縱坐標'], axis=1)"
   ]
  },
  {
   "cell_type": "code",
   "execution_count": 8,
   "id": "a0313e1a-1e7e-490f-bfd1-9784aa1ebb75",
   "metadata": {},
   "outputs": [],
   "source": [
    "# 轉換 train 和 facility_data 為 GeoDataFrame\n",
    "train['geometry'] = [Point(xy) for xy in zip(train['lon'], train['lat'])]\n",
    "train = gpd.GeoDataFrame(train, geometry='geometry')\n",
    "\n",
    "# 設定crs座標 TWD97\n",
    "facility_data = gpd.GeoDataFrame(facility_data, geometry=gpd.points_from_xy(facility_data['經度'], facility_data['緯度']))\n",
    "facility_data.crs = \"EPSG:3826\"\n",
    "new_train.crs = \"EPSG:3826\""
   ]
  },
  {
   "cell_type": "code",
   "execution_count": 9,
   "id": "33ae5cc1-6db4-4b6d-ba8a-592a47833a40",
   "metadata": {},
   "outputs": [],
   "source": [
    "for i in facility_data['小類別名稱'].unique():\n",
    "    # 選取特定設施，計算該設施對房子的最小距離\n",
    "    specific_facility = facility_data[facility_data['小類別名稱']==i]"
   ]
  },
  {
   "cell_type": "code",
   "execution_count": 12,
   "id": "3674c35b-47a3-4a83-804b-a4d18b41a24c",
   "metadata": {},
   "outputs": [],
   "source": [
    "# 計算附近數量的函數\n",
    "def min_nearby_facility_distance(point, facility_data, max_distance=500):\n",
    "    \n",
    "    full_distance = (facility_data.geometry.distance(point) * 101.77545 * 1000).sort_values().reset_index(drop=True)\n",
    "    # print(full_distance[0])\n",
    "    \n",
    "    return full_distance[0]\n",
    "\n",
    "for i in facility_data['小類別名稱'].unique():\n",
    "    \n",
    "    # 選取特定設施，計算該設施對房子的最小距離\n",
    "    specific_facility = facility_data[facility_data['小類別名稱']==i]\n",
    "    train['最近'+i] = train.geometry.apply(min_nearby_facility_distance, facility_data = specific_facility)\n",
    "    # min_nearby_facility_distance(train.geometry[0], facility_data)"
   ]
  },
  {
   "cell_type": "code",
   "execution_count": 14,
   "id": "179d8014-da63-4d09-9ef5-4d5d39715a0e",
   "metadata": {},
   "outputs": [],
   "source": [
    "train.to_csv(\"./最近設施距離.csv\", index=False)"
   ]
  },
  {
   "cell_type": "code",
   "execution_count": 34,
   "id": "146aec2d-1579-4724-ac34-d5b151fa4965",
   "metadata": {},
   "outputs": [
    {
     "data": {
      "text/plain": [
       "array(['臺北市', '臺中市', '臺南市', '基隆市', '高雄市', '新北市', '宜蘭縣', '桃園縣', '苗栗縣',\n",
       "       '嘉義市', '新竹縣', '南投縣', '彰化縣', '雲林縣', '新竹市', '嘉義縣', '屏東縣', '花蓮縣',\n",
       "       '臺東縣', '金門縣', '澎湖縣', '連江縣'], dtype=object)"
      ]
     },
     "execution_count": 34,
     "metadata": {},
     "output_type": "execute_result"
    }
   ],
   "source": [
    "facility_data['縣市'].unique()"
   ]
  },
  {
   "cell_type": "code",
   "execution_count": 32,
   "id": "9dc39a7c-aaab-4aaf-ab04-3127c4f2e0cd",
   "metadata": {},
   "outputs": [
    {
     "data": {
      "text/plain": [
       "array(['火車站', '客運站', '捷運站', '飯店', '碼頭', '高鐵站', '航空站', '主要道路建設', '國小',\n",
       "       '國中', '高中', '專科', '大學及研究所', '幼稚園、托兒所', '傳統市場', '生活百貨量販', '一般公園',\n",
       "       '里鄰公園', '觀光遊憩設施', '停車場地', '服務性設施', '行政機關', '醫療保健', '加油站', '百貨公司',\n",
       "       '金融機構', '娛樂設施', '電力資源', '產業用水及設施', '工廠', '商店', '超級市場', '大型購物中心'],\n",
       "      dtype=object)"
      ]
     },
     "execution_count": 32,
     "metadata": {},
     "output_type": "execute_result"
    }
   ],
   "source": [
    "facility_data['小類別名稱'].unique()"
   ]
  },
  {
   "cell_type": "code",
   "execution_count": 45,
   "id": "c3f5a0f0-1a1e-4e7b-bccb-63ff5374ef9c",
   "metadata": {},
   "outputs": [
    {
     "name": "stdout",
     "output_type": "stream",
     "text": [
      "27\n",
      "27\n",
      "29\n",
      "22\n",
      "31\n",
      "26\n",
      "25\n",
      "24\n",
      "24\n",
      "25\n",
      "23\n",
      "23\n",
      "23\n",
      "27\n",
      "23\n",
      "27\n",
      "29\n",
      "25\n",
      "23\n",
      "20\n",
      "22\n",
      "17\n"
     ]
    }
   ],
   "source": [
    "for i in facility_data['縣市'].unique():\n",
    "    specific_data = facility_data[facility_data['縣市'] == i]\n",
    "    print(len(specific_data['小類別名稱'].unique()))"
   ]
  },
  {
   "cell_type": "code",
   "execution_count": 30,
   "id": "2cb507a5-ff7b-43b4-9492-ce6c913241b4",
   "metadata": {},
   "outputs": [
    {
     "data": {
      "text/html": [
       "<div>\n",
       "<style scoped>\n",
       "    .dataframe tbody tr th:only-of-type {\n",
       "        vertical-align: middle;\n",
       "    }\n",
       "\n",
       "    .dataframe tbody tr th {\n",
       "        vertical-align: top;\n",
       "    }\n",
       "\n",
       "    .dataframe thead th {\n",
       "        text-align: right;\n",
       "    }\n",
       "</style>\n",
       "<table border=\"1\" class=\"dataframe\">\n",
       "  <thead>\n",
       "    <tr style=\"text-align: right;\">\n",
       "      <th></th>\n",
       "      <th>縣市代號</th>\n",
       "      <th>縣市</th>\n",
       "      <th>大類別</th>\n",
       "      <th>小類別代號</th>\n",
       "      <th>小類別名稱</th>\n",
       "      <th>地標名稱</th>\n",
       "      <th>緯度</th>\n",
       "      <th>經度</th>\n",
       "      <th>geometry</th>\n",
       "    </tr>\n",
       "  </thead>\n",
       "  <tbody>\n",
       "  </tbody>\n",
       "</table>\n",
       "</div>"
      ],
      "text/plain": [
       "Empty GeoDataFrame\n",
       "Columns: [縣市代號, 縣市, 大類別, 小類別代號, 小類別名稱, 地標名稱, 緯度, 經度, geometry]\n",
       "Index: []"
      ]
     },
     "execution_count": 30,
     "metadata": {},
     "output_type": "execute_result"
    }
   ],
   "source": [
    "a = facility_data[facility_data['縣市'] == '臺北市'] #facility_data['小類別名稱'] == '商店' & \n",
    "a[a['小類別名稱'] == '商店']"
   ]
  }
 ],
 "metadata": {
  "kernelspec": {
   "display_name": "Python 3 (ipykernel)",
   "language": "python",
   "name": "python3"
  },
  "language_info": {
   "codemirror_mode": {
    "name": "ipython",
    "version": 3
   },
   "file_extension": ".py",
   "mimetype": "text/x-python",
   "name": "python",
   "nbconvert_exporter": "python",
   "pygments_lexer": "ipython3",
   "version": "3.9.12"
  }
 },
 "nbformat": 4,
 "nbformat_minor": 5
}
