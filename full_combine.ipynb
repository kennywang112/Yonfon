{
 "cells": [
  {
   "cell_type": "code",
   "execution_count": 1,
   "id": "827aab27-6882-4fa7-a730-28b607219f66",
   "metadata": {},
   "outputs": [
    {
     "name": "stderr",
     "output_type": "stream",
     "text": [
      "<frozen importlib._bootstrap>:228: RuntimeWarning: scipy._lib.messagestream.MessageStream size changed, may indicate binary incompatibility. Expected 56 from C header, got 64 from PyObject\n"
     ]
    }
   ],
   "source": [
    "import pandas as pd\n",
    "import requests\n",
    "from bs4 import BeautifulSoup\n",
    "import pyproj\n",
    "import geopandas as gpd\n",
    "from shapely.geometry import Point\n",
    "from sklearn.linear_model import Lasso,LassoCV,Ridge\n",
    "from sklearn.preprocessing import StandardScaler\n",
    "from sklearn.pipeline import Pipeline\n",
    "import numpy as np\n",
    "from sklearn.metrics import accuracy_score\n",
    "from sklearn import preprocessing\n",
    "from sklearn.model_selection import train_test_split, GridSearchCV\n",
    "import matplotlib.pyplot as plt\n",
    "from sklearn.ensemble import RandomForestRegressor"
   ]
  },
  {
   "cell_type": "code",
   "execution_count": 2,
   "id": "78e6bc91-56b3-46d5-b087-8308be7c694a",
   "metadata": {},
   "outputs": [
    {
     "name": "stdout",
     "output_type": "stream",
     "text": [
      "(11751, 48)\n",
      "(5876, 51)\n"
     ]
    }
   ],
   "source": [
    "training_quantity_distance = pd.read_csv(\"training_quantity_distance.csv\")\n",
    "public_quantity_distance = pd.read_csv(\"public_quantity_distance.csv\")\n",
    "concat = pd.read_csv(\"concat_data.csv\")\n",
    "\n",
    "print(training_quantity_distance.shape)\n",
    "print(public_quantity_distance.shape)"
   ]
  }
 ],
 "metadata": {
  "kernelspec": {
   "display_name": "Python 3 (ipykernel)",
   "language": "python",
   "name": "python3"
  },
  "language_info": {
   "codemirror_mode": {
    "name": "ipython",
    "version": 3
   },
   "file_extension": ".py",
   "mimetype": "text/x-python",
   "name": "python",
   "nbconvert_exporter": "python",
   "pygments_lexer": "ipython3",
   "version": "3.9.12"
  }
 },
 "nbformat": 4,
 "nbformat_minor": 5
}
