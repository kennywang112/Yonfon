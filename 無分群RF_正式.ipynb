{
 "cells": [
  {
   "cell_type": "code",
   "execution_count": 64,
   "id": "f2c9b36d-31e3-4fa9-8b94-9c67e24efc9b",
   "metadata": {},
   "outputs": [],
   "source": [
    "import pandas as pd\n",
    "import requests\n",
    "from bs4 import BeautifulSoup\n",
    "import pyproj\n",
    "import geopandas as gpd\n",
    "from shapely.geometry import Point\n",
    "from sklearn.linear_model import Lasso,LassoCV,Ridge\n",
    "from sklearn.preprocessing import StandardScaler\n",
    "from sklearn.pipeline import Pipeline\n",
    "import numpy as np\n",
    "from sklearn.metrics import accuracy_score\n",
    "from sklearn import preprocessing\n",
    "from sklearn.model_selection import train_test_split, GridSearchCV\n",
    "import matplotlib.pyplot as plt\n",
    "from sklearn.ensemble import RandomForestRegressor"
   ]
  },
  {
   "cell_type": "code",
   "execution_count": 74,
   "id": "ac4605da-6717-431e-99c1-d800461de32a",
   "metadata": {},
   "outputs": [],
   "source": [
    "for_temple = pd.read_csv(\"public_quantity_distance.csv\")\n",
    "for_temple['最近金融機構距離']\n",
    "for_temple['最近廟宇距離']\n",
    "\n",
    "# concat_data = pd.read_csv(\"new_concat_data.csv\").drop(['最近金融機構距離','最近廟宇距離'], axis=1).reset_index(drop=True)\n",
    "concat_data = pd.read_csv(\"new_concat_data.csv\").reset_index(drop=True)\n",
    "origin_concat_data = pd.read_csv(\"concat_data.csv\")\n",
    "origin_concat_data = origin_concat_data[11751:].drop(['geometry','縱坐標','橫坐標'], axis=1).reset_index(drop=True)\n",
    "origin_concat_data['最近金融機構距離'] = for_temple['最近金融機構距離']\n",
    "origin_concat_data['最近廟宇距離'] = for_temple['最近廟宇距離']\n",
    "\n",
    "new_concat_data = pd.concat([concat_data, origin_concat_data], ignore_index=True)"
   ]
  },
  {
   "cell_type": "code",
   "execution_count": 75,
   "id": "3e240761-efd3-443f-90dd-1ea2bac370a9",
   "metadata": {},
   "outputs": [],
   "source": [
    "# concat_data = new_concat_data[[\n",
    "#     '縣市', '鄉鎮市區', '路名', '主要用途', '主要建材', '建物型態', '使用分區', '備註', '單價',\n",
    "#     'lng', '最近航空站', '最近幼稚園、托兒所',\n",
    "#     '屋齡', '最近一般公園', '最近碼頭', '最近大型購物中心', \n",
    "#     '最近超級市場', '最近大學及研究所', '總樓層數',\n",
    "#     '最近國中', '最近生活百貨量販',\n",
    "#     '最近捷運站', '最近電力資源', '最近高鐵站',\n",
    "#     '最近產業用水及設施', '最近飯店', '最近觀光遊憩設施', \n",
    "#     '最近主要道路建設', 'lat', '最近里鄰公園', '最近娛樂設施', \n",
    "#     '國中(高)', '國中(中)', '最近火車站', '車位面積', \n",
    "#     '最近百貨公司', '陽台面積', '移轉層次', '最近停車場地', \n",
    "#     '最近醫療保健', '最近加油站', \n",
    "#     '土地面積', '主建物面積', '建物面積', '最近工廠', \n",
    "#     '最近傳統市場', '附屬建物面積', '國中(下)', \n",
    "#     '最近高中', '最近商店', '最近專科', '最近國小', \n",
    "#     '最近廟宇距離', '最近金融機構距離'\n",
    "# ]]\n",
    "concat_data = new_concat_data[[\n",
    "    '縣市', '鄉鎮市區', '路名', '主要用途', '主要建材', '建物型態', '使用分區', '備註', '單價', \n",
    "    '車位面積', '陽台面積', '土地面積', '主建物面積', '建物面積', '附屬建物面積',\n",
    "    'lng', '最近航空站',\n",
    "    '屋齡', '最近一般公園', '最近碼頭', '最近大型購物中心', \n",
    "    '最近超級市場', '總樓層數',\n",
    "    '最近國中', '最近生活百貨量販',\n",
    "    '最近捷運站', '最近電力資源', '最近高鐵站',\n",
    "    '最近產業用水及設施', '最近飯店', '最近觀光遊憩設施', \n",
    "    '最近主要道路建設', 'lat', '最近里鄰公園',\n",
    "    '國中(高)', '國中(中)', '最近火車站', \n",
    "    '最近百貨公司', '移轉層次', '最近停車場地', \n",
    "    '最近醫療保健', '最近加油站',\n",
    "    '最近工廠', '最近傳統市場',\n",
    "    '最近商店', '最近專科',\n",
    "    '最近廟宇距離', '最近金融機構距離'\n",
    "    ]]"
   ]
  },
  {
   "cell_type": "code",
   "execution_count": 76,
   "id": "0aad2830-922b-4a94-ba4c-c0f3ef07afd5",
   "metadata": {},
   "outputs": [
    {
     "name": "stderr",
     "output_type": "stream",
     "text": [
      "/var/folders/w2/_g9w5yys0f171q4qqm469z1h0000gn/T/ipykernel_24326/1780255234.py:2: SettingWithCopyWarning: \n",
      "A value is trying to be set on a copy of a slice from a DataFrame.\n",
      "Try using .loc[row_indexer,col_indexer] = value instead\n",
      "\n",
      "See the caveats in the documentation: https://pandas.pydata.org/pandas-docs/stable/user_guide/indexing.html#returning-a-view-versus-a-copy\n",
      "  concat_data.iloc[:, 9:] = pd.DataFrame(z_scaler.fit_transform(concat_data.iloc[:, 9:]))\n"
     ]
    }
   ],
   "source": [
    "z_scaler = preprocessing.StandardScaler()\n",
    "concat_data.iloc[:, 9:] = pd.DataFrame(z_scaler.fit_transform(concat_data.iloc[:, 9:]))\n",
    "concat_data = pd.get_dummies(concat_data, columns=['縣市','鄉鎮市區','路名','主要用途','主要建材','建物型態','使用分區','備註'])"
   ]
  },
  {
   "cell_type": "code",
   "execution_count": 77,
   "id": "e26c7f8d-e8d5-403e-a28d-3d0e65dfa21b",
   "metadata": {},
   "outputs": [],
   "source": [
    "Y_train = concat_data[['單價']].dropna(subset=['單價'])\n",
    "X_train = concat_data.dropna(subset=['單價']).drop(['單價'], axis=1)\n",
    "X_test = concat_data[concat_data['單價'].isna()].drop(['單價'], axis=1)"
   ]
  },
  {
   "cell_type": "code",
   "execution_count": 78,
   "id": "42680187-abb8-4207-b39f-8ec59c72584e",
   "metadata": {},
   "outputs": [
    {
     "name": "stderr",
     "output_type": "stream",
     "text": [
      "/var/folders/w2/_g9w5yys0f171q4qqm469z1h0000gn/T/ipykernel_24326/3776739804.py:2: DataConversionWarning: A column-vector y was passed when a 1d array was expected. Please change the shape of y to (n_samples,), for example using ravel().\n",
      "  result = rf_regressor.fit(X_train.values, Y_train.values)\n"
     ]
    }
   ],
   "source": [
    "rf_regressor = RandomForestRegressor()\n",
    "result = rf_regressor.fit(X_train.values, Y_train.values)"
   ]
  },
  {
   "cell_type": "code",
   "execution_count": 79,
   "id": "5a5c9b4d-77c2-4014-94e0-33c443514e3c",
   "metadata": {},
   "outputs": [],
   "source": [
    "predictions = result.predict(X_test.values)"
   ]
  },
  {
   "cell_type": "code",
   "execution_count": 81,
   "id": "1e9d193a-e2fb-4608-8aca-d9b49def7d61",
   "metadata": {},
   "outputs": [
    {
     "data": {
      "text/plain": [
       "array([1.89245799, 1.63874326, 2.71197155, ..., 1.94801664, 2.94619859,\n",
       "       2.07520192])"
      ]
     },
     "execution_count": 81,
     "metadata": {},
     "output_type": "execute_result"
    }
   ],
   "source": [
    "predictions"
   ]
  },
  {
   "cell_type": "code",
   "execution_count": 82,
   "id": "2513208e-e3d4-4469-8095-b44e705d3378",
   "metadata": {},
   "outputs": [],
   "source": [
    "result = pd.read_csv(\"public_submission_template.csv\")\n",
    "result['predicted_price'] = predictions\n",
    "result.to_csv(\"./result.csv\", index=False)"
   ]
  }
 ],
 "metadata": {
  "kernelspec": {
   "display_name": "Python 3 (ipykernel)",
   "language": "python",
   "name": "python3"
  },
  "language_info": {
   "codemirror_mode": {
    "name": "ipython",
    "version": 3
   },
   "file_extension": ".py",
   "mimetype": "text/x-python",
   "name": "python",
   "nbconvert_exporter": "python",
   "pygments_lexer": "ipython3",
   "version": "3.9.12"
  }
 },
 "nbformat": 4,
 "nbformat_minor": 5
}
