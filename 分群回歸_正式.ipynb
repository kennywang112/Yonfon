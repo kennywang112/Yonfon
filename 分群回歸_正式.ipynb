{
 "cells": [
  {
   "cell_type": "code",
   "execution_count": 182,
   "id": "ff94b90a-5183-4b5c-a509-0276e086f2ba",
   "metadata": {},
   "outputs": [],
   "source": [
    "import pandas as pd\n",
    "import requests\n",
    "from bs4 import BeautifulSoup\n",
    "import pyproj\n",
    "import geopandas as gpd\n",
    "from shapely.geometry import Point\n",
    "from sklearn.linear_model import Lasso,LassoCV,Ridge\n",
    "from sklearn.preprocessing import StandardScaler\n",
    "from sklearn.pipeline import Pipeline\n",
    "import numpy as np\n",
    "from sklearn.metrics import accuracy_score\n",
    "from sklearn import preprocessing\n",
    "from sklearn.model_selection import train_test_split, GridSearchCV\n",
    "import matplotlib.pyplot as plt\n",
    "from sklearn.ensemble import RandomForestRegressor"
   ]
  },
  {
   "cell_type": "code",
   "execution_count": 190,
   "id": "30ac5f93-bbbe-44d4-a8e5-2f91d214e6b0",
   "metadata": {},
   "outputs": [],
   "source": [
    "for_temple = pd.read_csv(\"public_quantity_distance.csv\")\n",
    "for_temple['最近金融機構距離']\n",
    "for_temple['最近廟宇距離']\n",
    "\n",
    "# concat_data = pd.read_csv(\"new_concat_data.csv\").drop(['最近金融機構距離','最近廟宇距離'], axis=1).reset_index(drop=True)\n",
    "concat_data = pd.read_csv(\"new_concat_data.csv\").reset_index(drop=True)\n",
    "origin_concat_data = pd.read_csv(\"concat_data.csv\")\n",
    "origin_concat_data = origin_concat_data[11751:].drop(['geometry','縱坐標','橫坐標'], axis=1).reset_index(drop=True)\n",
    "origin_concat_data['最近金融機構距離'] = for_temple['最近金融機構距離']\n",
    "origin_concat_data['最近廟宇距離'] = for_temple['最近廟宇距離']\n",
    "\n",
    "new_concat_data = pd.concat([concat_data, origin_concat_data], ignore_index=True)"
   ]
  },
  {
   "cell_type": "code",
   "execution_count": 191,
   "id": "fa5e3c7e-c6da-4e84-a80d-d169e5dc0792",
   "metadata": {},
   "outputs": [],
   "source": [
    "Taipei = new_concat_data[new_concat_data['縣市'] == \"台北市\"]\n",
    "Kaohsiung = new_concat_data[new_concat_data['縣市'] == \"高雄市\"]\n",
    "New_Taipei = new_concat_data[new_concat_data['縣市'] == \"新北市\"]\n",
    "Taoyuan = new_concat_data[new_concat_data['縣市'] == \"桃園市\"]\n",
    "Taichung = new_concat_data[new_concat_data['縣市'] == \"台中市\"]\n",
    "Tainan = new_concat_data[new_concat_data['縣市'] == \"台南市\"]\n",
    "Hsinchu = new_concat_data[(new_concat_data['縣市'] == \"新竹縣\") | (new_concat_data['縣市'] == \"新竹市\")]\n",
    "Else = new_concat_data[(new_concat_data['縣市'] != \"台北市\") & (new_concat_data['縣市'] != \"高雄市\") & (new_concat_data['縣市'] != \"新北市\") & (new_concat_data['縣市'] != \"桃園市\") & (new_concat_data['縣市'] != \"台中市\") &( new_concat_data['縣市'] != \"台南市\") & (new_concat_data['縣市'] != \"新竹縣\") & (new_concat_data['縣市'] != \"新竹市\")]\n",
    "multi = [Taipei, Kaohsiung, New_Taipei, Taoyuan, Taichung, Tainan, Hsinchu, Else]"
   ]
  },
  {
   "cell_type": "code",
   "execution_count": 192,
   "id": "81c14745-3426-466b-8c39-0b6621ecd889",
   "metadata": {},
   "outputs": [],
   "source": [
    "Taipei = Taipei[[\n",
    "    '縣市', '鄉鎮市區', '路名', '主要用途', '主要建材', '建物型態', '使用分區', '備註', '單價',\n",
    "    'lng', '最近航空站', '最近幼稚園、托兒所',\n",
    "    '屋齡', '最近一般公園', '最近碼頭', '最近大型購物中心', \n",
    "    '最近超級市場', '最近大學及研究所', '總樓層數',\n",
    "    '最近國中', '最近生活百貨量販',\n",
    "    '最近捷運站', '最近電力資源', '最近高鐵站',\n",
    "    '最近產業用水及設施', '最近飯店', '最近觀光遊憩設施', \n",
    "    '最近主要道路建設', 'lat', '最近里鄰公園', '最近娛樂設施', \n",
    "    '國中(高)', '國中(中)', '最近火車站', '車位面積', \n",
    "    '最近百貨公司', '陽台面積', '移轉層次', '最近停車場地', \n",
    "    '最近醫療保健', '最近金融機構', '最近加油站', \n",
    "    '土地面積', '主建物面積', '建物面積', '最近工廠', \n",
    "    '最近傳統市場', '附屬建物面積', '國中(下)', \n",
    "    '最近高中', '最近商店', '最近專科', '最近國小', \n",
    "    '最近廟宇距離', '最近金融機構距離'\n",
    "]]\n",
    "    \n",
    "# Taipei.iloc[:, 9:] = pd.DataFrame(z_scaler.fit_transform(Taipei.iloc[:, 9:]))"
   ]
  },
  {
   "cell_type": "code",
   "execution_count": 207,
   "id": "02f5e4bc-167c-4396-b872-e335ea1089d6",
   "metadata": {},
   "outputs": [],
   "source": [
    "z_scaler = preprocessing.StandardScaler()\n",
    "\n",
    "def ClusterTrainer(city):\n",
    "    \n",
    "    # specific = concat_data[concat_data['縣市'] == city]\n",
    "    specific = city\n",
    "    \n",
    "    specific = specific[[\n",
    "        '縣市', '鄉鎮市區', '路名', '主要用途', '主要建材', '建物型態', '使用分區', '備註', '單價',\n",
    "        'lng', '最近航空站', '最近幼稚園、托兒所',\n",
    "        '屋齡', '最近一般公園', '最近碼頭', '最近大型購物中心', \n",
    "        '最近超級市場', '最近大學及研究所', '總樓層數',\n",
    "        '最近國中', '最近生活百貨量販',\n",
    "        '最近捷運站', '最近電力資源', '最近高鐵站',\n",
    "        '最近產業用水及設施', '最近飯店', '最近觀光遊憩設施', \n",
    "        '最近主要道路建設', 'lat', '最近里鄰公園', '最近娛樂設施', \n",
    "        '國中(高)', '國中(中)', '最近火車站', '車位面積', \n",
    "        '最近百貨公司', '陽台面積', '移轉層次', '最近停車場地', \n",
    "        '最近醫療保健', '最近金融機構', '最近加油站', \n",
    "        '土地面積', '主建物面積', '建物面積', '最近工廠', \n",
    "        '最近傳統市場', '附屬建物面積', '國中(下)', \n",
    "        '最近高中', '最近商店', '最近專科', '最近國小', \n",
    "        '最近廟宇距離', '最近金融機構距離'\n",
    "    ]]\n",
    "    \n",
    "    specific.iloc[:, 9:] = pd.DataFrame(z_scaler.fit_transform(specific.iloc[:, 9:]), index = specific.index)\n",
    "    print(specific.shape)\n",
    "    specific = pd.get_dummies(specific, columns=['鄉鎮市區','路名','主要用途','主要建材','建物型態','使用分區','備註'])\n",
    "    specific = specific.drop(['縣市'], axis=1)\n",
    "\n",
    "    # train_test_data = GetSplit(specific)\n",
    "    Y_train = specific[['單價']].dropna(subset=['單價'])\n",
    "    print(Y_train.shape)\n",
    "    X_train = specific.dropna(subset=['單價']).drop(['單價'], axis=1)\n",
    "    print(X_train.shape)\n",
    "    X_test = specific[specific['單價'].isna()].drop(['單價'], axis=1)\n",
    "    print(city['縣市'].unique())\n",
    "\n",
    "    # ridge = Ridge()\n",
    "    # parameters = {'alpha':[1e-15,1e-10,1e-8,1e-3,1e-2,1,5,10,20,30,35,40,45,50,55,100]}\n",
    "    # ridge_reg = GridSearchCV(ridge,parameters,scoring='neg_mean_squared_error',cv=5)\n",
    "    # result = ridge_reg.fit(X_train.values, Y_train['單價'].values)\n",
    "    rf_regressor = RandomForestRegressor()\n",
    "    result = rf_regressor.fit(X_train.values, Y_train.values)\n",
    "    \n",
    "    return result, X_test"
   ]
  },
  {
   "cell_type": "code",
   "execution_count": 208,
   "id": "7878eb09-da7d-41cb-9dd5-0002db664070",
   "metadata": {
    "collapsed": true,
    "jupyter": {
     "outputs_hidden": true
    },
    "tags": []
   },
   "outputs": [
    {
     "name": "stdout",
     "output_type": "stream",
     "text": [
      "(2484, 55)\n",
      "(1265, 1)\n",
      "(1265, 601)\n",
      "['台北市']\n"
     ]
    },
    {
     "name": "stderr",
     "output_type": "stream",
     "text": [
      "/var/folders/w2/_g9w5yys0f171q4qqm469z1h0000gn/T/ipykernel_12118/3224406145.py:44: DataConversionWarning: A column-vector y was passed when a 1d array was expected. Please change the shape of y to (n_samples,), for example using ravel().\n",
      "  result = rf_regressor.fit(X_train.values, Y_train.values)\n",
      "/var/folders/w2/_g9w5yys0f171q4qqm469z1h0000gn/T/ipykernel_12118/3224406145.py:26: SettingWithCopyWarning: \n",
      "A value is trying to be set on a copy of a slice from a DataFrame.\n",
      "Try using .loc[row_indexer,col_indexer] = value instead\n",
      "\n",
      "See the caveats in the documentation: https://pandas.pydata.org/pandas-docs/stable/user_guide/indexing.html#returning-a-view-versus-a-copy\n",
      "  specific.iloc[:, 9:] = pd.DataFrame(z_scaler.fit_transform(specific.iloc[:, 9:]), index = specific.index)\n",
      "/var/folders/w2/_g9w5yys0f171q4qqm469z1h0000gn/T/ipykernel_12118/3224406145.py:44: DataConversionWarning: A column-vector y was passed when a 1d array was expected. Please change the shape of y to (n_samples,), for example using ravel().\n",
      "  result = rf_regressor.fit(X_train.values, Y_train.values)\n"
     ]
    },
    {
     "name": "stdout",
     "output_type": "stream",
     "text": [
      "(1979, 55)\n",
      "(1310, 1)\n",
      "(1310, 706)\n",
      "['高雄市']\n"
     ]
    },
    {
     "name": "stderr",
     "output_type": "stream",
     "text": [
      "/var/folders/w2/_g9w5yys0f171q4qqm469z1h0000gn/T/ipykernel_12118/3224406145.py:26: SettingWithCopyWarning: \n",
      "A value is trying to be set on a copy of a slice from a DataFrame.\n",
      "Try using .loc[row_indexer,col_indexer] = value instead\n",
      "\n",
      "See the caveats in the documentation: https://pandas.pydata.org/pandas-docs/stable/user_guide/indexing.html#returning-a-view-versus-a-copy\n",
      "  specific.iloc[:, 9:] = pd.DataFrame(z_scaler.fit_transform(specific.iloc[:, 9:]), index = specific.index)\n",
      "/var/folders/w2/_g9w5yys0f171q4qqm469z1h0000gn/T/ipykernel_12118/3224406145.py:44: DataConversionWarning: A column-vector y was passed when a 1d array was expected. Please change the shape of y to (n_samples,), for example using ravel().\n",
      "  result = rf_regressor.fit(X_train.values, Y_train.values)\n"
     ]
    },
    {
     "name": "stdout",
     "output_type": "stream",
     "text": [
      "(6353, 55)\n",
      "(4156, 1)\n",
      "(4156, 1022)\n",
      "['新北市']\n"
     ]
    },
    {
     "name": "stderr",
     "output_type": "stream",
     "text": [
      "/var/folders/w2/_g9w5yys0f171q4qqm469z1h0000gn/T/ipykernel_12118/3224406145.py:26: SettingWithCopyWarning: \n",
      "A value is trying to be set on a copy of a slice from a DataFrame.\n",
      "Try using .loc[row_indexer,col_indexer] = value instead\n",
      "\n",
      "See the caveats in the documentation: https://pandas.pydata.org/pandas-docs/stable/user_guide/indexing.html#returning-a-view-versus-a-copy\n",
      "  specific.iloc[:, 9:] = pd.DataFrame(z_scaler.fit_transform(specific.iloc[:, 9:]), index = specific.index)\n",
      "/var/folders/w2/_g9w5yys0f171q4qqm469z1h0000gn/T/ipykernel_12118/3224406145.py:44: DataConversionWarning: A column-vector y was passed when a 1d array was expected. Please change the shape of y to (n_samples,), for example using ravel().\n",
      "  result = rf_regressor.fit(X_train.values, Y_train.values)\n"
     ]
    },
    {
     "name": "stdout",
     "output_type": "stream",
     "text": [
      "(1714, 55)\n",
      "(1165, 1)\n",
      "(1165, 706)\n",
      "['桃園市']\n"
     ]
    },
    {
     "name": "stderr",
     "output_type": "stream",
     "text": [
      "/var/folders/w2/_g9w5yys0f171q4qqm469z1h0000gn/T/ipykernel_12118/3224406145.py:26: SettingWithCopyWarning: \n",
      "A value is trying to be set on a copy of a slice from a DataFrame.\n",
      "Try using .loc[row_indexer,col_indexer] = value instead\n",
      "\n",
      "See the caveats in the documentation: https://pandas.pydata.org/pandas-docs/stable/user_guide/indexing.html#returning-a-view-versus-a-copy\n",
      "  specific.iloc[:, 9:] = pd.DataFrame(z_scaler.fit_transform(specific.iloc[:, 9:]), index = specific.index)\n",
      "/var/folders/w2/_g9w5yys0f171q4qqm469z1h0000gn/T/ipykernel_12118/3224406145.py:44: DataConversionWarning: A column-vector y was passed when a 1d array was expected. Please change the shape of y to (n_samples,), for example using ravel().\n",
      "  result = rf_regressor.fit(X_train.values, Y_train.values)\n"
     ]
    },
    {
     "name": "stdout",
     "output_type": "stream",
     "text": [
      "(1467, 55)\n",
      "(982, 1)\n",
      "(982, 633)\n",
      "['台中市']\n"
     ]
    },
    {
     "name": "stderr",
     "output_type": "stream",
     "text": [
      "/var/folders/w2/_g9w5yys0f171q4qqm469z1h0000gn/T/ipykernel_12118/3224406145.py:26: SettingWithCopyWarning: \n",
      "A value is trying to be set on a copy of a slice from a DataFrame.\n",
      "Try using .loc[row_indexer,col_indexer] = value instead\n",
      "\n",
      "See the caveats in the documentation: https://pandas.pydata.org/pandas-docs/stable/user_guide/indexing.html#returning-a-view-versus-a-copy\n",
      "  specific.iloc[:, 9:] = pd.DataFrame(z_scaler.fit_transform(specific.iloc[:, 9:]), index = specific.index)\n",
      "/var/folders/w2/_g9w5yys0f171q4qqm469z1h0000gn/T/ipykernel_12118/3224406145.py:44: DataConversionWarning: A column-vector y was passed when a 1d array was expected. Please change the shape of y to (n_samples,), for example using ravel().\n",
      "  result = rf_regressor.fit(X_train.values, Y_train.values)\n"
     ]
    },
    {
     "name": "stdout",
     "output_type": "stream",
     "text": [
      "(688, 55)\n",
      "(474, 1)\n",
      "(474, 299)\n",
      "['台南市']\n"
     ]
    },
    {
     "name": "stderr",
     "output_type": "stream",
     "text": [
      "/var/folders/w2/_g9w5yys0f171q4qqm469z1h0000gn/T/ipykernel_12118/3224406145.py:26: SettingWithCopyWarning: \n",
      "A value is trying to be set on a copy of a slice from a DataFrame.\n",
      "Try using .loc[row_indexer,col_indexer] = value instead\n",
      "\n",
      "See the caveats in the documentation: https://pandas.pydata.org/pandas-docs/stable/user_guide/indexing.html#returning-a-view-versus-a-copy\n",
      "  specific.iloc[:, 9:] = pd.DataFrame(z_scaler.fit_transform(specific.iloc[:, 9:]), index = specific.index)\n",
      "/var/folders/w2/_g9w5yys0f171q4qqm469z1h0000gn/T/ipykernel_12118/3224406145.py:44: DataConversionWarning: A column-vector y was passed when a 1d array was expected. Please change the shape of y to (n_samples,), for example using ravel().\n",
      "  result = rf_regressor.fit(X_train.values, Y_train.values)\n"
     ]
    },
    {
     "name": "stdout",
     "output_type": "stream",
     "text": [
      "(900, 55)\n",
      "(590, 1)\n",
      "(590, 375)\n",
      "['新竹縣' '新竹市']\n"
     ]
    },
    {
     "name": "stderr",
     "output_type": "stream",
     "text": [
      "/var/folders/w2/_g9w5yys0f171q4qqm469z1h0000gn/T/ipykernel_12118/3224406145.py:26: SettingWithCopyWarning: \n",
      "A value is trying to be set on a copy of a slice from a DataFrame.\n",
      "Try using .loc[row_indexer,col_indexer] = value instead\n",
      "\n",
      "See the caveats in the documentation: https://pandas.pydata.org/pandas-docs/stable/user_guide/indexing.html#returning-a-view-versus-a-copy\n",
      "  specific.iloc[:, 9:] = pd.DataFrame(z_scaler.fit_transform(specific.iloc[:, 9:]), index = specific.index)\n",
      "/var/folders/w2/_g9w5yys0f171q4qqm469z1h0000gn/T/ipykernel_12118/3224406145.py:44: DataConversionWarning: A column-vector y was passed when a 1d array was expected. Please change the shape of y to (n_samples,), for example using ravel().\n",
      "  result = rf_regressor.fit(X_train.values, Y_train.values)\n"
     ]
    },
    {
     "name": "stdout",
     "output_type": "stream",
     "text": [
      "(710, 55)\n",
      "(477, 1)\n",
      "(477, 414)\n",
      "['苗栗縣' '基隆市' '屏東縣' '宜蘭縣' '花蓮縣' '嘉義市' '金門縣' '嘉義縣' '彰化縣' '雲林縣']\n"
     ]
    }
   ],
   "source": [
    "Taipei_res = ClusterTrainer(Taipei)\n",
    "Kaohsiung_res = ClusterTrainer(Kaohsiung)\n",
    "New_Taipei_res = ClusterTrainer(New_Taipei)\n",
    "Taoyuan_res = ClusterTrainer(Taoyuan)\n",
    "Taichung_res = ClusterTrainer(Taichung)\n",
    "Tainan_res = ClusterTrainer(Tainan)\n",
    "Hsinchu_res = ClusterTrainer(Hsinchu)\n",
    "Else_res = ClusterTrainer(Else)"
   ]
  },
  {
   "cell_type": "code",
   "execution_count": 209,
   "id": "725a5a3d-f5d3-42f7-b40d-74b32b4f1165",
   "metadata": {},
   "outputs": [],
   "source": [
    "dic = {}"
   ]
  },
  {
   "cell_type": "code",
   "execution_count": 211,
   "id": "7da2289f-c56b-48f3-9a13-f19c96c8ca43",
   "metadata": {
    "tags": []
   },
   "outputs": [],
   "source": [
    "for i in range(len(Taipei_res[1])):\n",
    "    lst = Taipei_res[0].predict(Taipei_res[1].values)\n",
    "    dic[Taipei_res[1].index[i]] = lst[i]\n",
    "    \n",
    "for i in range(len(Kaohsiung_res[1])):\n",
    "    lst = Kaohsiung_res[0].predict(Kaohsiung_res[1].values)\n",
    "    dic[Kaohsiung_res[1].index[i]] = lst[i]\n",
    "    \n",
    "for i in range(len(New_Taipei_res[1])):\n",
    "    lst = New_Taipei_res[0].predict(New_Taipei_res[1].values)\n",
    "    dic[New_Taipei_res[1].index[i]] = lst[i]\n",
    "    \n",
    "for i in range(len(Taoyuan_res[1])):\n",
    "    lst = Taoyuan_res[0].predict(Taoyuan_res[1].values)\n",
    "    dic[Taoyuan_res[1].index[i]] = lst[i]\n",
    "    \n",
    "for i in range(len(Taichung_res[1])):\n",
    "    lst = Taichung_res[0].predict(Taichung_res[1].values)\n",
    "    dic[Taichung_res[1].index[i]] = lst[i]\n",
    "    \n",
    "for i in range(len(Tainan_res[1])):\n",
    "    lst = Tainan_res[0].predict(Tainan_res[1].values)\n",
    "    dic[Tainan_res[1].index[i]] = lst[i]\n",
    "    \n",
    "for i in range(len(Hsinchu_res[1])):\n",
    "    lst = Hsinchu_res[0].predict(Hsinchu_res[1].values)\n",
    "    dic[Hsinchu_res[1].index[i]] = lst[i]\n",
    "    \n",
    "for i in range(len(Else_res[1])):\n",
    "    lst = Else_res[0].predict(Else_res[1].values)\n",
    "    dic[Else_res[1].index[i]] = lst[i]"
   ]
  },
  {
   "cell_type": "code",
   "execution_count": 212,
   "id": "d0e1415c-2c15-4907-8c50-5ad5944290b4",
   "metadata": {},
   "outputs": [],
   "source": [
    "dic = sorted(dic.items(), key=lambda x: x[0])"
   ]
  },
  {
   "cell_type": "code",
   "execution_count": 215,
   "id": "4de9bd6a-2435-4568-b981-8ac941737134",
   "metadata": {},
   "outputs": [],
   "source": [
    "lst = []\n",
    "for item in dic:\n",
    "    lst.append(item[1])"
   ]
  },
  {
   "cell_type": "code",
   "execution_count": 216,
   "id": "e64a8c94-ed83-4253-9f21-a8e1c94fcd88",
   "metadata": {},
   "outputs": [],
   "source": [
    "result = pd.read_csv(\"public_submission_template.csv\")\n",
    "result['predicted_price'] = lst\n",
    "result.to_csv(\"./result.csv\", index=False)"
   ]
  }
 ],
 "metadata": {
  "kernelspec": {
   "display_name": "Python 3 (ipykernel)",
   "language": "python",
   "name": "python3"
  },
  "language_info": {
   "codemirror_mode": {
    "name": "ipython",
    "version": 3
   },
   "file_extension": ".py",
   "mimetype": "text/x-python",
   "name": "python",
   "nbconvert_exporter": "python",
   "pygments_lexer": "ipython3",
   "version": "3.9.12"
  }
 },
 "nbformat": 4,
 "nbformat_minor": 5
}
