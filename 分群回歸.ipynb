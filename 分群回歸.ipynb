{
 "cells": [
  {
   "cell_type": "code",
   "execution_count": 13,
   "id": "e554b0a2-fcee-4c8d-9270-f9efe4e27840",
   "metadata": {},
   "outputs": [],
   "source": [
    "import pandas as pd\n",
    "import requests\n",
    "from bs4 import BeautifulSoup\n",
    "import pyproj\n",
    "import geopandas as gpd\n",
    "from shapely.geometry import Point\n",
    "from sklearn.linear_model import Lasso,LassoCV,Ridge\n",
    "from sklearn.preprocessing import StandardScaler\n",
    "from sklearn.pipeline import Pipeline\n",
    "import numpy as np\n",
    "from sklearn.metrics import accuracy_score\n",
    "from sklearn import preprocessing\n",
    "from sklearn.model_selection import train_test_split, GridSearchCV\n",
    "import matplotlib.pyplot as plt\n",
    "from sklearn.ensemble import RandomForestRegressor"
   ]
  },
  {
   "cell_type": "code",
   "execution_count": 3,
   "id": "7b6f6792-d516-461f-9cce-7b23eee836e4",
   "metadata": {},
   "outputs": [],
   "source": [
    "concat_data = pd.read_csv(\"new_concat_data.csv\")"
   ]
  },
  {
   "cell_type": "markdown",
   "id": "9d8d0e57-3bc8-4779-8c90-7667cc95f9f9",
   "metadata": {},
   "source": [
    "臺北市、新北市、桃園市、臺中市、臺南市、高雄市、(新竹縣、新竹市)"
   ]
  },
  {
   "cell_type": "code",
   "execution_count": 107,
   "id": "82a93a9f-cce5-4823-9f1c-53125257fa4c",
   "metadata": {
    "collapsed": true,
    "jupyter": {
     "outputs_hidden": true
    },
    "tags": []
   },
   "outputs": [
    {
     "name": "stdout",
     "output_type": "stream",
     "text": [
      "台北市 (1265, 60)\n",
      "高雄市 (1310, 60)\n",
      "新北市 (4156, 60)\n",
      "桃園市 (1165, 60)\n",
      "台中市 (982, 60)\n",
      "台南市 (474, 60)\n",
      "苗栗縣 (43, 60)\n",
      "新竹縣 (347, 60)\n",
      "基隆市 (222, 60)\n",
      "屏東縣 (46, 60)\n",
      "新竹市 (243, 60)\n",
      "宜蘭縣 (75, 60)\n",
      "花蓮縣 (12, 60)\n",
      "嘉義市 (25, 60)\n",
      "金門縣 (30, 60)\n",
      "嘉義縣 (2, 60)\n",
      "彰化縣 (20, 60)\n",
      "雲林縣 (2, 60)\n"
     ]
    }
   ],
   "source": [
    "for i in unique_city:\n",
    "    print(i, concat_data[concat_data['縣市'] == i].shape)"
   ]
  },
  {
   "cell_type": "code",
   "execution_count": 4,
   "id": "0fad241b-7017-44d5-85fd-c886a22553ae",
   "metadata": {},
   "outputs": [],
   "source": [
    "# 六都分一類\n",
    "Taipei = concat_data[concat_data['縣市'] == \"台北市\"]\n",
    "Kaohsiung = concat_data[concat_data['縣市'] == \"高雄市\"]\n",
    "New_Taipei = concat_data[concat_data['縣市'] == \"新北市\"]\n",
    "Taoyuan = concat_data[concat_data['縣市'] == \"桃園市\"]\n",
    "Taichung = concat_data[concat_data['縣市'] == \"台中市\"]\n",
    "Tainan = concat_data[concat_data['縣市'] == \"台南市\"]\n",
    "Hsinchu = concat_data[(concat_data['縣市'] == \"新竹縣\") | (concat_data['縣市'] == \"新竹市\")]\n",
    "Else = concat_data[(concat_data['縣市'] != \"台北市\") & (concat_data['縣市'] != \"高雄市\") & (concat_data['縣市'] != \"新北市\") & (concat_data['縣市'] != \"桃園市\") & (concat_data['縣市'] != \"台中市\") &( concat_data['縣市'] != \"台南市\") & (concat_data['縣市'] != \"新竹縣\") & (concat_data['縣市'] != \"新竹市\")]\n",
    "multi = [Taipei, Kaohsiung, New_Taipei, Taoyuan, Taichung, Tainan, Hsinchu, Else]"
   ]
  },
  {
   "cell_type": "code",
   "execution_count": 5,
   "id": "e24f85e9-5903-4a68-b03f-11bdf9fc26eb",
   "metadata": {},
   "outputs": [
    {
     "data": {
      "text/plain": [
       "True"
      ]
     },
     "execution_count": 5,
     "metadata": {},
     "output_type": "execute_result"
    }
   ],
   "source": [
    "Taipei.shape[0] + Kaohsiung.shape[0] + New_Taipei.shape[0] + Taoyuan.shape[0] + Taichung.shape[0] + Tainan.shape[0] + Else.shape[0] + Hsinchu.shape[0] == concat_data.shape[0]"
   ]
  },
  {
   "cell_type": "code",
   "execution_count": 8,
   "id": "c1554b55-002e-4f8e-ab9f-1fd88acb1a0d",
   "metadata": {
    "tags": []
   },
   "outputs": [],
   "source": [
    "z_scaler = preprocessing.StandardScaler()\n",
    "\n",
    "def GetSplit(data):\n",
    "    train_data, test_data = train_test_split(specific, random_state=777, train_size=0.8)\n",
    "\n",
    "    Y_train = train_data[['單價']]\n",
    "    X_train = train_data.drop(['單價'], axis=1)\n",
    "    Y_test = test_data[['單價']]\n",
    "    X_test = test_data.drop(['單價'], axis=1)\n",
    "        \n",
    "    return X_train, Y_train, X_test, Y_test\n",
    "\n",
    "def ClusterTrainer(city):\n",
    "    \n",
    "    # specific = concat_data[concat_data['縣市'] == city]\n",
    "    specific = city\n",
    "    \n",
    "    specific = specific[[\n",
    "        '縣市', '鄉鎮市區', '路名', '主要用途', '主要建材', '建物型態', '使用分區', '備註', '單價',\n",
    "        'lng', '最近航空站', '最近幼稚園、托兒所',\n",
    "        '屋齡', '最近一般公園', '最近碼頭', '最近大型購物中心', \n",
    "        '最近超級市場', '最近大學及研究所', '總樓層數',\n",
    "        '最近國中', '最近生活百貨量販',\n",
    "        '最近捷運站', '最近電力資源', '最近高鐵站',\n",
    "        '最近產業用水及設施', '最近飯店', '最近觀光遊憩設施', \n",
    "        '最近主要道路建設', 'lat', '最近里鄰公園', '最近娛樂設施', \n",
    "        '國中(高)', '國中(中)', '最近火車站', '車位面積', \n",
    "        '最近百貨公司', '陽台面積', '移轉層次', '最近停車場地', \n",
    "        '最近醫療保健', '最近金融機構', '最近加油站', \n",
    "        '土地面積', '主建物面積', '建物面積', '最近工廠', \n",
    "        '最近傳統市場', '附屬建物面積', '國中(下)', \n",
    "        '最近高中', '最近商店', '最近專科', '最近國小', \n",
    "        '最近廟宇距離', '最近金融機構距離'\n",
    "    ]]\n",
    "    specific.iloc[:, 9:] = pd.DataFrame(z_scaler.fit_transform(specific.iloc[:, 9:]), index = specific.index)\n",
    "    \n",
    "    specific = pd.get_dummies(specific, columns=['鄉鎮市區','路名','主要用途','主要建材','建物型態','使用分區','備註'])\n",
    "    specific = specific.drop(['縣市'], axis=1)\n",
    "    \n",
    "    train_data, test_data = train_test_split(specific, random_state=777, train_size=0.8)\n",
    "\n",
    "    # train_test_data = GetSplit(specific)\n",
    "    Y_train = train_data[['單價']]\n",
    "    X_train = train_data.drop(['單價'], axis=1)\n",
    "    Y_test = test_data[['單價']]\n",
    "    X_test = test_data.drop(['單價'], axis=1)\n",
    "\n",
    "    ridge = Ridge()\n",
    "    parameters = {'alpha':[1e-15,1e-10,1e-8,1e-3,1e-2,1,5,10,20,30,35,40,45,50,55,100]}\n",
    "    ridge_reg = GridSearchCV(ridge,parameters,scoring='neg_mean_squared_error',cv=5)\n",
    "    result = ridge_reg.fit(X_train.values, Y_train['單價'].values)\n",
    "    \n",
    "    return result, Y_test, X_test"
   ]
  },
  {
   "cell_type": "code",
   "execution_count": 9,
   "id": "6859e091-ed8f-4cac-8d86-570e36ab12bb",
   "metadata": {
    "collapsed": true,
    "jupyter": {
     "outputs_hidden": true
    },
    "tags": []
   },
   "outputs": [
    {
     "name": "stderr",
     "output_type": "stream",
     "text": [
      "/var/folders/w2/_g9w5yys0f171q4qqm469z1h0000gn/T/ipykernel_20270/1308320488.py:35: SettingWithCopyWarning: \n",
      "A value is trying to be set on a copy of a slice from a DataFrame.\n",
      "Try using .loc[row_indexer,col_indexer] = value instead\n",
      "\n",
      "See the caveats in the documentation: https://pandas.pydata.org/pandas-docs/stable/user_guide/indexing.html#returning-a-view-versus-a-copy\n",
      "  specific.iloc[:, 9:] = pd.DataFrame(z_scaler.fit_transform(specific.iloc[:, 9:]), index = specific.index)\n",
      "/var/folders/w2/_g9w5yys0f171q4qqm469z1h0000gn/T/ipykernel_20270/1308320488.py:35: SettingWithCopyWarning: \n",
      "A value is trying to be set on a copy of a slice from a DataFrame.\n",
      "Try using .loc[row_indexer,col_indexer] = value instead\n",
      "\n",
      "See the caveats in the documentation: https://pandas.pydata.org/pandas-docs/stable/user_guide/indexing.html#returning-a-view-versus-a-copy\n",
      "  specific.iloc[:, 9:] = pd.DataFrame(z_scaler.fit_transform(specific.iloc[:, 9:]), index = specific.index)\n",
      "/var/folders/w2/_g9w5yys0f171q4qqm469z1h0000gn/T/ipykernel_20270/1308320488.py:35: SettingWithCopyWarning: \n",
      "A value is trying to be set on a copy of a slice from a DataFrame.\n",
      "Try using .loc[row_indexer,col_indexer] = value instead\n",
      "\n",
      "See the caveats in the documentation: https://pandas.pydata.org/pandas-docs/stable/user_guide/indexing.html#returning-a-view-versus-a-copy\n",
      "  specific.iloc[:, 9:] = pd.DataFrame(z_scaler.fit_transform(specific.iloc[:, 9:]), index = specific.index)\n",
      "/var/folders/w2/_g9w5yys0f171q4qqm469z1h0000gn/T/ipykernel_20270/1308320488.py:35: SettingWithCopyWarning: \n",
      "A value is trying to be set on a copy of a slice from a DataFrame.\n",
      "Try using .loc[row_indexer,col_indexer] = value instead\n",
      "\n",
      "See the caveats in the documentation: https://pandas.pydata.org/pandas-docs/stable/user_guide/indexing.html#returning-a-view-versus-a-copy\n",
      "  specific.iloc[:, 9:] = pd.DataFrame(z_scaler.fit_transform(specific.iloc[:, 9:]), index = specific.index)\n",
      "/var/folders/w2/_g9w5yys0f171q4qqm469z1h0000gn/T/ipykernel_20270/1308320488.py:35: SettingWithCopyWarning: \n",
      "A value is trying to be set on a copy of a slice from a DataFrame.\n",
      "Try using .loc[row_indexer,col_indexer] = value instead\n",
      "\n",
      "See the caveats in the documentation: https://pandas.pydata.org/pandas-docs/stable/user_guide/indexing.html#returning-a-view-versus-a-copy\n",
      "  specific.iloc[:, 9:] = pd.DataFrame(z_scaler.fit_transform(specific.iloc[:, 9:]), index = specific.index)\n",
      "/var/folders/w2/_g9w5yys0f171q4qqm469z1h0000gn/T/ipykernel_20270/1308320488.py:35: SettingWithCopyWarning: \n",
      "A value is trying to be set on a copy of a slice from a DataFrame.\n",
      "Try using .loc[row_indexer,col_indexer] = value instead\n",
      "\n",
      "See the caveats in the documentation: https://pandas.pydata.org/pandas-docs/stable/user_guide/indexing.html#returning-a-view-versus-a-copy\n",
      "  specific.iloc[:, 9:] = pd.DataFrame(z_scaler.fit_transform(specific.iloc[:, 9:]), index = specific.index)\n",
      "/var/folders/w2/_g9w5yys0f171q4qqm469z1h0000gn/T/ipykernel_20270/1308320488.py:35: SettingWithCopyWarning: \n",
      "A value is trying to be set on a copy of a slice from a DataFrame.\n",
      "Try using .loc[row_indexer,col_indexer] = value instead\n",
      "\n",
      "See the caveats in the documentation: https://pandas.pydata.org/pandas-docs/stable/user_guide/indexing.html#returning-a-view-versus-a-copy\n",
      "  specific.iloc[:, 9:] = pd.DataFrame(z_scaler.fit_transform(specific.iloc[:, 9:]), index = specific.index)\n",
      "/var/folders/w2/_g9w5yys0f171q4qqm469z1h0000gn/T/ipykernel_20270/1308320488.py:35: SettingWithCopyWarning: \n",
      "A value is trying to be set on a copy of a slice from a DataFrame.\n",
      "Try using .loc[row_indexer,col_indexer] = value instead\n",
      "\n",
      "See the caveats in the documentation: https://pandas.pydata.org/pandas-docs/stable/user_guide/indexing.html#returning-a-view-versus-a-copy\n",
      "  specific.iloc[:, 9:] = pd.DataFrame(z_scaler.fit_transform(specific.iloc[:, 9:]), index = specific.index)\n",
      "/Users/wangqiqian/opt/anaconda3/lib/python3.9/site-packages/sklearn/linear_model/_ridge.py:251: UserWarning: Singular matrix in solving dual problem. Using least-squares solution instead.\n",
      "  warnings.warn(\n",
      "/Users/wangqiqian/opt/anaconda3/lib/python3.9/site-packages/sklearn/linear_model/_ridge.py:251: UserWarning: Singular matrix in solving dual problem. Using least-squares solution instead.\n",
      "  warnings.warn(\n",
      "/Users/wangqiqian/opt/anaconda3/lib/python3.9/site-packages/sklearn/linear_model/_ridge.py:251: UserWarning: Singular matrix in solving dual problem. Using least-squares solution instead.\n",
      "  warnings.warn(\n",
      "/Users/wangqiqian/opt/anaconda3/lib/python3.9/site-packages/sklearn/linear_model/_ridge.py:251: UserWarning: Singular matrix in solving dual problem. Using least-squares solution instead.\n",
      "  warnings.warn(\n",
      "/Users/wangqiqian/opt/anaconda3/lib/python3.9/site-packages/sklearn/linear_model/_ridge.py:251: UserWarning: Singular matrix in solving dual problem. Using least-squares solution instead.\n",
      "  warnings.warn(\n"
     ]
    }
   ],
   "source": [
    "test_res_list = []\n",
    "\n",
    "for i in multi:\n",
    "    res = ClusterTrainer(i)\n",
    "    predictions = res[0].predict(res[2].values)\n",
    "    test_res_list.append(np.mean(np.abs((res[1]['單價'].values - predictions) / res[1]['單價'].values)) * 100)\n",
    "    np.mean(np.abs((res[1]['單價'].values - predictions) / res[1]['單價'].values)) * 100"
   ]
  },
  {
   "cell_type": "code",
   "execution_count": 10,
   "id": "87e350de-0e88-4182-bd86-74b9c6f11774",
   "metadata": {},
   "outputs": [
    {
     "name": "stdout",
     "output_type": "stream",
     "text": [
      "[8.198594057570123, 11.011285443102144, 7.844658313722652, 9.317758715058845, 10.771101816952354, 13.536672363781637, 14.579456129931417, 11.47993508947549]\n",
      "10.842432741199332\n"
     ]
    }
   ],
   "source": [
    "print(test_res_list)\n",
    "print(np.mean(test_res_list))"
   ]
  },
  {
   "cell_type": "markdown",
   "id": "048866e9-2c21-4fb5-9b54-19d901fbf68f",
   "metadata": {},
   "source": [
    "## RF"
   ]
  },
  {
   "cell_type": "code",
   "execution_count": 21,
   "id": "0e5da511-ec8a-4389-8a39-f57fd9653d9b",
   "metadata": {},
   "outputs": [],
   "source": [
    "def ClusterTrainer(city):\n",
    "    \n",
    "    # specific = concat_data[concat_data['縣市'] == city]\n",
    "    specific = city\n",
    "    \n",
    "    specific = specific[[\n",
    "        '縣市', '鄉鎮市區', '路名', '主要用途', '主要建材', '建物型態', '使用分區', '備註', '單價',\n",
    "        'lng', '最近航空站', '最近幼稚園、托兒所',\n",
    "        '屋齡', '最近一般公園', '最近碼頭', '最近大型購物中心', \n",
    "        '最近超級市場', '最近大學及研究所', '總樓層數',\n",
    "        '最近國中', '最近生活百貨量販',\n",
    "        '最近捷運站', '最近電力資源', '最近高鐵站',\n",
    "        '最近產業用水及設施', '最近飯店', '最近觀光遊憩設施', \n",
    "        '最近主要道路建設', 'lat', '最近里鄰公園', '最近娛樂設施', \n",
    "        '國中(高)', '國中(中)', '最近火車站', '車位面積', \n",
    "        '最近百貨公司', '陽台面積', '移轉層次', '最近停車場地', \n",
    "        '最近醫療保健', '最近金融機構', '最近加油站', \n",
    "        '土地面積', '主建物面積', '建物面積', '最近工廠', \n",
    "        '最近傳統市場', '附屬建物面積', '國中(下)', \n",
    "        '最近高中', '最近商店', '最近專科', '最近國小', \n",
    "        '最近廟宇距離', '最近金融機構距離'\n",
    "    ]]\n",
    "    specific.iloc[:, 9:] = pd.DataFrame(z_scaler.fit_transform(specific.iloc[:, 9:]), index = specific.index)\n",
    "    \n",
    "    specific = pd.get_dummies(specific, columns=['鄉鎮市區','路名','主要用途','主要建材','建物型態','使用分區','備註'])\n",
    "    specific = specific.drop(['縣市'], axis=1)\n",
    "    \n",
    "    train_data, test_data = train_test_split(specific, random_state=777, train_size=0.8)\n",
    "\n",
    "    # train_test_data = GetSplit(specific)\n",
    "    Y_train = train_data[['單價']]\n",
    "    X_train = train_data.drop(['單價'], axis=1)\n",
    "    Y_test = test_data[['單價']]\n",
    "    X_test = test_data.drop(['單價'], axis=1)\n",
    "\n",
    "    rf_regressor = RandomForestRegressor()\n",
    "    result = rf_regressor.fit(X_train, Y_train)\n",
    "    \n",
    "    return result, Y_test, X_test"
   ]
  },
  {
   "cell_type": "code",
   "execution_count": 22,
   "id": "3611467e-6e61-4a4c-951e-7bf60bed631f",
   "metadata": {
    "collapsed": true,
    "jupyter": {
     "outputs_hidden": true
    },
    "tags": []
   },
   "outputs": [
    {
     "name": "stderr",
     "output_type": "stream",
     "text": [
      "/var/folders/w2/_g9w5yys0f171q4qqm469z1h0000gn/T/ipykernel_20270/869066144.py:23: SettingWithCopyWarning: \n",
      "A value is trying to be set on a copy of a slice from a DataFrame.\n",
      "Try using .loc[row_indexer,col_indexer] = value instead\n",
      "\n",
      "See the caveats in the documentation: https://pandas.pydata.org/pandas-docs/stable/user_guide/indexing.html#returning-a-view-versus-a-copy\n",
      "  specific.iloc[:, 9:] = pd.DataFrame(z_scaler.fit_transform(specific.iloc[:, 9:]), index = specific.index)\n",
      "/var/folders/w2/_g9w5yys0f171q4qqm469z1h0000gn/T/ipykernel_20270/869066144.py:37: DataConversionWarning: A column-vector y was passed when a 1d array was expected. Please change the shape of y to (n_samples,), for example using ravel().\n",
      "  result = rf_regressor.fit(X_train, Y_train)\n",
      "/Users/wangqiqian/opt/anaconda3/lib/python3.9/site-packages/sklearn/base.py:450: UserWarning: X does not have valid feature names, but RandomForestRegressor was fitted with feature names\n",
      "  warnings.warn(\n",
      "/var/folders/w2/_g9w5yys0f171q4qqm469z1h0000gn/T/ipykernel_20270/869066144.py:23: SettingWithCopyWarning: \n",
      "A value is trying to be set on a copy of a slice from a DataFrame.\n",
      "Try using .loc[row_indexer,col_indexer] = value instead\n",
      "\n",
      "See the caveats in the documentation: https://pandas.pydata.org/pandas-docs/stable/user_guide/indexing.html#returning-a-view-versus-a-copy\n",
      "  specific.iloc[:, 9:] = pd.DataFrame(z_scaler.fit_transform(specific.iloc[:, 9:]), index = specific.index)\n",
      "/var/folders/w2/_g9w5yys0f171q4qqm469z1h0000gn/T/ipykernel_20270/869066144.py:37: DataConversionWarning: A column-vector y was passed when a 1d array was expected. Please change the shape of y to (n_samples,), for example using ravel().\n",
      "  result = rf_regressor.fit(X_train, Y_train)\n",
      "/Users/wangqiqian/opt/anaconda3/lib/python3.9/site-packages/sklearn/base.py:450: UserWarning: X does not have valid feature names, but RandomForestRegressor was fitted with feature names\n",
      "  warnings.warn(\n",
      "/var/folders/w2/_g9w5yys0f171q4qqm469z1h0000gn/T/ipykernel_20270/869066144.py:23: SettingWithCopyWarning: \n",
      "A value is trying to be set on a copy of a slice from a DataFrame.\n",
      "Try using .loc[row_indexer,col_indexer] = value instead\n",
      "\n",
      "See the caveats in the documentation: https://pandas.pydata.org/pandas-docs/stable/user_guide/indexing.html#returning-a-view-versus-a-copy\n",
      "  specific.iloc[:, 9:] = pd.DataFrame(z_scaler.fit_transform(specific.iloc[:, 9:]), index = specific.index)\n",
      "/var/folders/w2/_g9w5yys0f171q4qqm469z1h0000gn/T/ipykernel_20270/869066144.py:37: DataConversionWarning: A column-vector y was passed when a 1d array was expected. Please change the shape of y to (n_samples,), for example using ravel().\n",
      "  result = rf_regressor.fit(X_train, Y_train)\n",
      "/Users/wangqiqian/opt/anaconda3/lib/python3.9/site-packages/sklearn/base.py:450: UserWarning: X does not have valid feature names, but RandomForestRegressor was fitted with feature names\n",
      "  warnings.warn(\n",
      "/var/folders/w2/_g9w5yys0f171q4qqm469z1h0000gn/T/ipykernel_20270/869066144.py:23: SettingWithCopyWarning: \n",
      "A value is trying to be set on a copy of a slice from a DataFrame.\n",
      "Try using .loc[row_indexer,col_indexer] = value instead\n",
      "\n",
      "See the caveats in the documentation: https://pandas.pydata.org/pandas-docs/stable/user_guide/indexing.html#returning-a-view-versus-a-copy\n",
      "  specific.iloc[:, 9:] = pd.DataFrame(z_scaler.fit_transform(specific.iloc[:, 9:]), index = specific.index)\n",
      "/var/folders/w2/_g9w5yys0f171q4qqm469z1h0000gn/T/ipykernel_20270/869066144.py:37: DataConversionWarning: A column-vector y was passed when a 1d array was expected. Please change the shape of y to (n_samples,), for example using ravel().\n",
      "  result = rf_regressor.fit(X_train, Y_train)\n",
      "/Users/wangqiqian/opt/anaconda3/lib/python3.9/site-packages/sklearn/base.py:450: UserWarning: X does not have valid feature names, but RandomForestRegressor was fitted with feature names\n",
      "  warnings.warn(\n",
      "/var/folders/w2/_g9w5yys0f171q4qqm469z1h0000gn/T/ipykernel_20270/869066144.py:23: SettingWithCopyWarning: \n",
      "A value is trying to be set on a copy of a slice from a DataFrame.\n",
      "Try using .loc[row_indexer,col_indexer] = value instead\n",
      "\n",
      "See the caveats in the documentation: https://pandas.pydata.org/pandas-docs/stable/user_guide/indexing.html#returning-a-view-versus-a-copy\n",
      "  specific.iloc[:, 9:] = pd.DataFrame(z_scaler.fit_transform(specific.iloc[:, 9:]), index = specific.index)\n",
      "/var/folders/w2/_g9w5yys0f171q4qqm469z1h0000gn/T/ipykernel_20270/869066144.py:37: DataConversionWarning: A column-vector y was passed when a 1d array was expected. Please change the shape of y to (n_samples,), for example using ravel().\n",
      "  result = rf_regressor.fit(X_train, Y_train)\n",
      "/Users/wangqiqian/opt/anaconda3/lib/python3.9/site-packages/sklearn/base.py:450: UserWarning: X does not have valid feature names, but RandomForestRegressor was fitted with feature names\n",
      "  warnings.warn(\n",
      "/var/folders/w2/_g9w5yys0f171q4qqm469z1h0000gn/T/ipykernel_20270/869066144.py:23: SettingWithCopyWarning: \n",
      "A value is trying to be set on a copy of a slice from a DataFrame.\n",
      "Try using .loc[row_indexer,col_indexer] = value instead\n",
      "\n",
      "See the caveats in the documentation: https://pandas.pydata.org/pandas-docs/stable/user_guide/indexing.html#returning-a-view-versus-a-copy\n",
      "  specific.iloc[:, 9:] = pd.DataFrame(z_scaler.fit_transform(specific.iloc[:, 9:]), index = specific.index)\n",
      "/var/folders/w2/_g9w5yys0f171q4qqm469z1h0000gn/T/ipykernel_20270/869066144.py:37: DataConversionWarning: A column-vector y was passed when a 1d array was expected. Please change the shape of y to (n_samples,), for example using ravel().\n",
      "  result = rf_regressor.fit(X_train, Y_train)\n",
      "/Users/wangqiqian/opt/anaconda3/lib/python3.9/site-packages/sklearn/base.py:450: UserWarning: X does not have valid feature names, but RandomForestRegressor was fitted with feature names\n",
      "  warnings.warn(\n",
      "/var/folders/w2/_g9w5yys0f171q4qqm469z1h0000gn/T/ipykernel_20270/869066144.py:23: SettingWithCopyWarning: \n",
      "A value is trying to be set on a copy of a slice from a DataFrame.\n",
      "Try using .loc[row_indexer,col_indexer] = value instead\n",
      "\n",
      "See the caveats in the documentation: https://pandas.pydata.org/pandas-docs/stable/user_guide/indexing.html#returning-a-view-versus-a-copy\n",
      "  specific.iloc[:, 9:] = pd.DataFrame(z_scaler.fit_transform(specific.iloc[:, 9:]), index = specific.index)\n",
      "/var/folders/w2/_g9w5yys0f171q4qqm469z1h0000gn/T/ipykernel_20270/869066144.py:37: DataConversionWarning: A column-vector y was passed when a 1d array was expected. Please change the shape of y to (n_samples,), for example using ravel().\n",
      "  result = rf_regressor.fit(X_train, Y_train)\n",
      "/Users/wangqiqian/opt/anaconda3/lib/python3.9/site-packages/sklearn/base.py:450: UserWarning: X does not have valid feature names, but RandomForestRegressor was fitted with feature names\n",
      "  warnings.warn(\n",
      "/var/folders/w2/_g9w5yys0f171q4qqm469z1h0000gn/T/ipykernel_20270/869066144.py:23: SettingWithCopyWarning: \n",
      "A value is trying to be set on a copy of a slice from a DataFrame.\n",
      "Try using .loc[row_indexer,col_indexer] = value instead\n",
      "\n",
      "See the caveats in the documentation: https://pandas.pydata.org/pandas-docs/stable/user_guide/indexing.html#returning-a-view-versus-a-copy\n",
      "  specific.iloc[:, 9:] = pd.DataFrame(z_scaler.fit_transform(specific.iloc[:, 9:]), index = specific.index)\n",
      "/var/folders/w2/_g9w5yys0f171q4qqm469z1h0000gn/T/ipykernel_20270/869066144.py:37: DataConversionWarning: A column-vector y was passed when a 1d array was expected. Please change the shape of y to (n_samples,), for example using ravel().\n",
      "  result = rf_regressor.fit(X_train, Y_train)\n",
      "/Users/wangqiqian/opt/anaconda3/lib/python3.9/site-packages/sklearn/base.py:450: UserWarning: X does not have valid feature names, but RandomForestRegressor was fitted with feature names\n",
      "  warnings.warn(\n"
     ]
    }
   ],
   "source": [
    "test_res_list = []\n",
    "\n",
    "for i in multi:\n",
    "    res = ClusterTrainer(i)\n",
    "    predictions = res[0].predict(res[2].values)\n",
    "    test_res_list.append(np.mean(np.abs((res[1]['單價'].values - predictions) / res[1]['單價'].values)) * 100)\n",
    "    np.mean(np.abs((res[1]['單價'].values - predictions) / res[1]['單價'].values)) * 100"
   ]
  },
  {
   "cell_type": "code",
   "execution_count": 23,
   "id": "17bf8c75-65fc-4681-a62e-db18374a0e4d",
   "metadata": {},
   "outputs": [
    {
     "name": "stdout",
     "output_type": "stream",
     "text": [
      "[7.306811463469909, 10.643745947128162, 7.56982350272723, 8.257744953390503, 9.832314334637289, 12.397633435720234, 15.44514262785683, 11.162372156672976]\n",
      "10.32694855270039\n"
     ]
    }
   ],
   "source": [
    "print(test_res_list)\n",
    "print(np.mean(test_res_list))"
   ]
  }
 ],
 "metadata": {
  "kernelspec": {
   "display_name": "Python 3 (ipykernel)",
   "language": "python",
   "name": "python3"
  },
  "language_info": {
   "codemirror_mode": {
    "name": "ipython",
    "version": 3
   },
   "file_extension": ".py",
   "mimetype": "text/x-python",
   "name": "python",
   "nbconvert_exporter": "python",
   "pygments_lexer": "ipython3",
   "version": "3.9.12"
  }
 },
 "nbformat": 4,
 "nbformat_minor": 5
}
