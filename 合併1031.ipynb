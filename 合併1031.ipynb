{
 "cells": [
  {
   "cell_type": "code",
   "execution_count": 1,
   "id": "2f15d8d7-b79c-4cf0-884c-76b2e0070c01",
   "metadata": {},
   "outputs": [],
   "source": [
    "import pandas as pd\n",
    "import requests\n",
    "from bs4 import BeautifulSoup\n",
    "import pyproj\n",
    "import geopandas as gpd\n",
    "from shapely.geometry import Point"
   ]
  },
  {
   "cell_type": "code",
   "execution_count": 5,
   "id": "04a21930-85f2-47ce-875b-89b7b13c3059",
   "metadata": {},
   "outputs": [
    {
     "data": {
      "text/plain": [
       "'C:\\\\Users\\\\USER\\\\Yonfon'"
      ]
     },
     "execution_count": 5,
     "metadata": {},
     "output_type": "execute_result"
    }
   ],
   "source": [
    "pwd"
   ]
  },
  {
   "cell_type": "code",
   "execution_count": 17,
   "id": "4a4b802f-d3a0-4d5e-a19e-81b25b1a3949",
   "metadata": {},
   "outputs": [],
   "source": [
    "train = pd.read_csv(\"../1031/training_hospital_distance.csv\")\n",
    "train = pd.read_csv(\"../1031/training_hospital_quantity.csv\")\n",
    "train = pd.read_csv(\"../1031/training_hospital_quantity.csv\")\n",
    "train = pd.read_csv(\"../1031/training_MRT_quantity.csv\")\n",
    "train = pd.read_csv(\"../1031/training_University_distance.csv\")\n",
    "train = pd.read_csv(\"../1031/training_University_distance.csv\")\n",
    "train = pd.read_csv(\"../1031/training_University_distance.csv\")\n",
    "train = pd.read_csv(\"../1031/training_University_distance.csv\")\n",
    "train = pd.read_csv(\"../1031/training_University_distance.csv\")\n",
    "train = pd.read_csv(\"../1031/training_University_distance.csv\")\n",
    "train = pd.read_csv(\"../1031/training_University_distance.csv\")\n",
    "#train[\"最近大學距離\"]"
   ]
  },
  {
   "cell_type": "code",
   "execution_count": null,
   "id": "98aa0ddc-c624-49bf-a054-eb96b706a649",
   "metadata": {},
   "outputs": [],
   "source": [
    "\"C:\\Users\\USER\\1031\\training_hospital_distance.csv\""
   ]
  },
  {
   "cell_type": "code",
   "execution_count": null,
   "id": "fcd1d79e-2c40-47e8-aba8-a9d120c0329e",
   "metadata": {},
   "outputs": [],
   "source": []
  }
 ],
 "metadata": {
  "kernelspec": {
   "display_name": "Python 3 (ipykernel)",
   "language": "python",
   "name": "python3"
  },
  "language_info": {
   "codemirror_mode": {
    "name": "ipython",
    "version": 3
   },
   "file_extension": ".py",
   "mimetype": "text/x-python",
   "name": "python",
   "nbconvert_exporter": "python",
   "pygments_lexer": "ipython3",
   "version": "3.9.12"
  }
 },
 "nbformat": 4,
 "nbformat_minor": 5
}
