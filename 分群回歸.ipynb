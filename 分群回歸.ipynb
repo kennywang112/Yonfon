{
 "cells": [
  {
   "cell_type": "code",
   "execution_count": 3,
   "id": "e554b0a2-fcee-4c8d-9270-f9efe4e27840",
   "metadata": {},
   "outputs": [
    {
     "name": "stderr",
     "output_type": "stream",
     "text": [
      "<frozen importlib._bootstrap>:228: RuntimeWarning: scipy._lib.messagestream.MessageStream size changed, may indicate binary incompatibility. Expected 56 from C header, got 64 from PyObject\n"
     ]
    }
   ],
   "source": [
    "import pandas as pd\n",
    "import requests\n",
    "from bs4 import BeautifulSoup\n",
    "import pyproj\n",
    "import geopandas as gpd\n",
    "from shapely.geometry import Point\n",
    "from sklearn.linear_model import Lasso,LassoCV,Ridge\n",
    "from sklearn.preprocessing import StandardScaler\n",
    "from sklearn.pipeline import Pipeline\n",
    "import numpy as np\n",
    "from sklearn.metrics import accuracy_score\n",
    "from sklearn import preprocessing\n",
    "from sklearn.model_selection import train_test_split, GridSearchCV\n",
    "import matplotlib.pyplot as plt\n",
    "from sklearn.ensemble import RandomForestRegressor"
   ]
  },
  {
   "cell_type": "markdown",
   "id": "d04f286e-8a76-4e98-81f8-0a2a655dbf38",
   "metadata": {},
   "source": [
    "## 縣市分群"
   ]
  },
  {
   "cell_type": "code",
   "execution_count": 3,
   "id": "7b6f6792-d516-461f-9cce-7b23eee836e4",
   "metadata": {},
   "outputs": [],
   "source": [
    "concat_data = pd.read_csv(\"new_concat_data.csv\")"
   ]
  },
  {
   "cell_type": "markdown",
   "id": "9d8d0e57-3bc8-4779-8c90-7667cc95f9f9",
   "metadata": {},
   "source": [
    "臺北市、新北市、桃園市、臺中市、臺南市、高雄市、(新竹縣、新竹市)"
   ]
  },
  {
   "cell_type": "code",
   "execution_count": 107,
   "id": "82a93a9f-cce5-4823-9f1c-53125257fa4c",
   "metadata": {
    "collapsed": true,
    "jupyter": {
     "outputs_hidden": true
    },
    "tags": []
   },
   "outputs": [
    {
     "name": "stdout",
     "output_type": "stream",
     "text": [
      "台北市 (1265, 60)\n",
      "高雄市 (1310, 60)\n",
      "新北市 (4156, 60)\n",
      "桃園市 (1165, 60)\n",
      "台中市 (982, 60)\n",
      "台南市 (474, 60)\n",
      "苗栗縣 (43, 60)\n",
      "新竹縣 (347, 60)\n",
      "基隆市 (222, 60)\n",
      "屏東縣 (46, 60)\n",
      "新竹市 (243, 60)\n",
      "宜蘭縣 (75, 60)\n",
      "花蓮縣 (12, 60)\n",
      "嘉義市 (25, 60)\n",
      "金門縣 (30, 60)\n",
      "嘉義縣 (2, 60)\n",
      "彰化縣 (20, 60)\n",
      "雲林縣 (2, 60)\n"
     ]
    }
   ],
   "source": [
    "for i in unique_city:\n",
    "    print(i, concat_data[concat_data['縣市'] == i].shape)"
   ]
  },
  {
   "cell_type": "code",
   "execution_count": 4,
   "id": "0fad241b-7017-44d5-85fd-c886a22553ae",
   "metadata": {},
   "outputs": [],
   "source": [
    "# 六都分一類\n",
    "Taipei = concat_data[concat_data['縣市'] == \"台北市\"]\n",
    "Kaohsiung = concat_data[concat_data['縣市'] == \"高雄市\"]\n",
    "New_Taipei = concat_data[concat_data['縣市'] == \"新北市\"]\n",
    "Taoyuan = concat_data[concat_data['縣市'] == \"桃園市\"]\n",
    "Taichung = concat_data[concat_data['縣市'] == \"台中市\"]\n",
    "Tainan = concat_data[concat_data['縣市'] == \"台南市\"]\n",
    "Hsinchu = concat_data[(concat_data['縣市'] == \"新竹縣\") | (concat_data['縣市'] == \"新竹市\")]\n",
    "Else = concat_data[(concat_data['縣市'] != \"台北市\") & (concat_data['縣市'] != \"高雄市\") & (concat_data['縣市'] != \"新北市\") & (concat_data['縣市'] != \"桃園市\") & (concat_data['縣市'] != \"台中市\") &( concat_data['縣市'] != \"台南市\") & (concat_data['縣市'] != \"新竹縣\") & (concat_data['縣市'] != \"新竹市\")]\n",
    "multi = [Taipei, Kaohsiung, New_Taipei, Taoyuan, Taichung, Tainan, Hsinchu, Else]"
   ]
  },
  {
   "cell_type": "code",
   "execution_count": 5,
   "id": "e24f85e9-5903-4a68-b03f-11bdf9fc26eb",
   "metadata": {},
   "outputs": [
    {
     "data": {
      "text/plain": [
       "True"
      ]
     },
     "execution_count": 5,
     "metadata": {},
     "output_type": "execute_result"
    }
   ],
   "source": [
    "Taipei.shape[0] + Kaohsiung.shape[0] + New_Taipei.shape[0] + Taoyuan.shape[0] + Taichung.shape[0] + Tainan.shape[0] + Else.shape[0] + Hsinchu.shape[0] == concat_data.shape[0]"
   ]
  },
  {
   "cell_type": "code",
   "execution_count": 8,
   "id": "c1554b55-002e-4f8e-ab9f-1fd88acb1a0d",
   "metadata": {
    "tags": []
   },
   "outputs": [],
   "source": [
    "z_scaler = preprocessing.StandardScaler()\n",
    "\n",
    "def GetSplit(data):\n",
    "    train_data, test_data = train_test_split(specific, random_state=777, train_size=0.8)\n",
    "\n",
    "    Y_train = train_data[['單價']]\n",
    "    X_train = train_data.drop(['單價'], axis=1)\n",
    "    Y_test = test_data[['單價']]\n",
    "    X_test = test_data.drop(['單價'], axis=1)\n",
    "        \n",
    "    return X_train, Y_train, X_test, Y_test\n",
    "\n",
    "def ClusterTrainer(city):\n",
    "    \n",
    "    # specific = concat_data[concat_data['縣市'] == city]\n",
    "    specific = city\n",
    "    \n",
    "    specific = specific[[\n",
    "        '縣市', '鄉鎮市區', '路名', '主要用途', '主要建材', '建物型態', '使用分區', '備註', '單價',\n",
    "        'lng', '最近航空站', '最近幼稚園、托兒所',\n",
    "        '屋齡', '最近一般公園', '最近碼頭', '最近大型購物中心', \n",
    "        '最近超級市場', '最近大學及研究所', '總樓層數',\n",
    "        '最近國中', '最近生活百貨量販',\n",
    "        '最近捷運站', '最近電力資源', '最近高鐵站',\n",
    "        '最近產業用水及設施', '最近飯店', '最近觀光遊憩設施', \n",
    "        '最近主要道路建設', 'lat', '最近里鄰公園', '最近娛樂設施', \n",
    "        '國中(高)', '國中(中)', '最近火車站', '車位面積', \n",
    "        '最近百貨公司', '陽台面積', '移轉層次', '最近停車場地', \n",
    "        '最近醫療保健', '最近金融機構', '最近加油站', \n",
    "        '土地面積', '主建物面積', '建物面積', '最近工廠', \n",
    "        '最近傳統市場', '附屬建物面積', '國中(下)', \n",
    "        '最近高中', '最近商店', '最近專科', '最近國小', \n",
    "        '最近廟宇距離', '最近金融機構距離'\n",
    "    ]]\n",
    "    specific.iloc[:, 9:] = pd.DataFrame(z_scaler.fit_transform(specific.iloc[:, 9:]), index = specific.index)\n",
    "    \n",
    "    specific = pd.get_dummies(specific, columns=['鄉鎮市區','路名','主要用途','主要建材','建物型態','使用分區','備註'])\n",
    "    specific = specific.drop(['縣市'], axis=1)\n",
    "    \n",
    "    train_data, test_data = train_test_split(specific, random_state=777, train_size=0.8)\n",
    "\n",
    "    # train_test_data = GetSplit(specific)\n",
    "    Y_train = train_data[['單價']]\n",
    "    X_train = train_data.drop(['單價'], axis=1)\n",
    "    Y_test = test_data[['單價']]\n",
    "    X_test = test_data.drop(['單價'], axis=1)\n",
    "\n",
    "    ridge = Ridge()\n",
    "    parameters = {'alpha':[1e-15,1e-10,1e-8,1e-3,1e-2,1,5,10,20,30,35,40,45,50,55,100]}\n",
    "    ridge_reg = GridSearchCV(ridge,parameters,scoring='neg_mean_squared_error',cv=5)\n",
    "    result = ridge_reg.fit(X_train.values, Y_train['單價'].values)\n",
    "    \n",
    "    return result, Y_test, X_test"
   ]
  },
  {
   "cell_type": "code",
   "execution_count": 9,
   "id": "6859e091-ed8f-4cac-8d86-570e36ab12bb",
   "metadata": {
    "collapsed": true,
    "jupyter": {
     "outputs_hidden": true
    },
    "tags": []
   },
   "outputs": [
    {
     "name": "stderr",
     "output_type": "stream",
     "text": [
      "/var/folders/w2/_g9w5yys0f171q4qqm469z1h0000gn/T/ipykernel_20270/1308320488.py:35: SettingWithCopyWarning: \n",
      "A value is trying to be set on a copy of a slice from a DataFrame.\n",
      "Try using .loc[row_indexer,col_indexer] = value instead\n",
      "\n",
      "See the caveats in the documentation: https://pandas.pydata.org/pandas-docs/stable/user_guide/indexing.html#returning-a-view-versus-a-copy\n",
      "  specific.iloc[:, 9:] = pd.DataFrame(z_scaler.fit_transform(specific.iloc[:, 9:]), index = specific.index)\n",
      "/var/folders/w2/_g9w5yys0f171q4qqm469z1h0000gn/T/ipykernel_20270/1308320488.py:35: SettingWithCopyWarning: \n",
      "A value is trying to be set on a copy of a slice from a DataFrame.\n",
      "Try using .loc[row_indexer,col_indexer] = value instead\n",
      "\n",
      "See the caveats in the documentation: https://pandas.pydata.org/pandas-docs/stable/user_guide/indexing.html#returning-a-view-versus-a-copy\n",
      "  specific.iloc[:, 9:] = pd.DataFrame(z_scaler.fit_transform(specific.iloc[:, 9:]), index = specific.index)\n",
      "/var/folders/w2/_g9w5yys0f171q4qqm469z1h0000gn/T/ipykernel_20270/1308320488.py:35: SettingWithCopyWarning: \n",
      "A value is trying to be set on a copy of a slice from a DataFrame.\n",
      "Try using .loc[row_indexer,col_indexer] = value instead\n",
      "\n",
      "See the caveats in the documentation: https://pandas.pydata.org/pandas-docs/stable/user_guide/indexing.html#returning-a-view-versus-a-copy\n",
      "  specific.iloc[:, 9:] = pd.DataFrame(z_scaler.fit_transform(specific.iloc[:, 9:]), index = specific.index)\n",
      "/var/folders/w2/_g9w5yys0f171q4qqm469z1h0000gn/T/ipykernel_20270/1308320488.py:35: SettingWithCopyWarning: \n",
      "A value is trying to be set on a copy of a slice from a DataFrame.\n",
      "Try using .loc[row_indexer,col_indexer] = value instead\n",
      "\n",
      "See the caveats in the documentation: https://pandas.pydata.org/pandas-docs/stable/user_guide/indexing.html#returning-a-view-versus-a-copy\n",
      "  specific.iloc[:, 9:] = pd.DataFrame(z_scaler.fit_transform(specific.iloc[:, 9:]), index = specific.index)\n",
      "/var/folders/w2/_g9w5yys0f171q4qqm469z1h0000gn/T/ipykernel_20270/1308320488.py:35: SettingWithCopyWarning: \n",
      "A value is trying to be set on a copy of a slice from a DataFrame.\n",
      "Try using .loc[row_indexer,col_indexer] = value instead\n",
      "\n",
      "See the caveats in the documentation: https://pandas.pydata.org/pandas-docs/stable/user_guide/indexing.html#returning-a-view-versus-a-copy\n",
      "  specific.iloc[:, 9:] = pd.DataFrame(z_scaler.fit_transform(specific.iloc[:, 9:]), index = specific.index)\n",
      "/var/folders/w2/_g9w5yys0f171q4qqm469z1h0000gn/T/ipykernel_20270/1308320488.py:35: SettingWithCopyWarning: \n",
      "A value is trying to be set on a copy of a slice from a DataFrame.\n",
      "Try using .loc[row_indexer,col_indexer] = value instead\n",
      "\n",
      "See the caveats in the documentation: https://pandas.pydata.org/pandas-docs/stable/user_guide/indexing.html#returning-a-view-versus-a-copy\n",
      "  specific.iloc[:, 9:] = pd.DataFrame(z_scaler.fit_transform(specific.iloc[:, 9:]), index = specific.index)\n",
      "/var/folders/w2/_g9w5yys0f171q4qqm469z1h0000gn/T/ipykernel_20270/1308320488.py:35: SettingWithCopyWarning: \n",
      "A value is trying to be set on a copy of a slice from a DataFrame.\n",
      "Try using .loc[row_indexer,col_indexer] = value instead\n",
      "\n",
      "See the caveats in the documentation: https://pandas.pydata.org/pandas-docs/stable/user_guide/indexing.html#returning-a-view-versus-a-copy\n",
      "  specific.iloc[:, 9:] = pd.DataFrame(z_scaler.fit_transform(specific.iloc[:, 9:]), index = specific.index)\n",
      "/var/folders/w2/_g9w5yys0f171q4qqm469z1h0000gn/T/ipykernel_20270/1308320488.py:35: SettingWithCopyWarning: \n",
      "A value is trying to be set on a copy of a slice from a DataFrame.\n",
      "Try using .loc[row_indexer,col_indexer] = value instead\n",
      "\n",
      "See the caveats in the documentation: https://pandas.pydata.org/pandas-docs/stable/user_guide/indexing.html#returning-a-view-versus-a-copy\n",
      "  specific.iloc[:, 9:] = pd.DataFrame(z_scaler.fit_transform(specific.iloc[:, 9:]), index = specific.index)\n",
      "/Users/wangqiqian/opt/anaconda3/lib/python3.9/site-packages/sklearn/linear_model/_ridge.py:251: UserWarning: Singular matrix in solving dual problem. Using least-squares solution instead.\n",
      "  warnings.warn(\n",
      "/Users/wangqiqian/opt/anaconda3/lib/python3.9/site-packages/sklearn/linear_model/_ridge.py:251: UserWarning: Singular matrix in solving dual problem. Using least-squares solution instead.\n",
      "  warnings.warn(\n",
      "/Users/wangqiqian/opt/anaconda3/lib/python3.9/site-packages/sklearn/linear_model/_ridge.py:251: UserWarning: Singular matrix in solving dual problem. Using least-squares solution instead.\n",
      "  warnings.warn(\n",
      "/Users/wangqiqian/opt/anaconda3/lib/python3.9/site-packages/sklearn/linear_model/_ridge.py:251: UserWarning: Singular matrix in solving dual problem. Using least-squares solution instead.\n",
      "  warnings.warn(\n",
      "/Users/wangqiqian/opt/anaconda3/lib/python3.9/site-packages/sklearn/linear_model/_ridge.py:251: UserWarning: Singular matrix in solving dual problem. Using least-squares solution instead.\n",
      "  warnings.warn(\n"
     ]
    }
   ],
   "source": [
    "test_res_list = []\n",
    "\n",
    "for i in multi:\n",
    "    res = ClusterTrainer(i)\n",
    "    predictions = res[0].predict(res[2].values)\n",
    "    test_res_list.append(np.mean(np.abs((res[1]['單價'].values - predictions) / res[1]['單價'].values)) * 100)\n",
    "    np.mean(np.abs((res[1]['單價'].values - predictions) / res[1]['單價'].values)) * 100"
   ]
  },
  {
   "cell_type": "code",
   "execution_count": 10,
   "id": "87e350de-0e88-4182-bd86-74b9c6f11774",
   "metadata": {},
   "outputs": [
    {
     "name": "stdout",
     "output_type": "stream",
     "text": [
      "[8.198594057570123, 11.011285443102144, 7.844658313722652, 9.317758715058845, 10.771101816952354, 13.536672363781637, 14.579456129931417, 11.47993508947549]\n",
      "10.842432741199332\n"
     ]
    }
   ],
   "source": [
    "print(test_res_list)\n",
    "print(np.mean(test_res_list))"
   ]
  },
  {
   "cell_type": "markdown",
   "id": "048866e9-2c21-4fb5-9b54-19d901fbf68f",
   "metadata": {
    "jp-MarkdownHeadingCollapsed": true,
    "tags": []
   },
   "source": [
    "## RF"
   ]
  },
  {
   "cell_type": "code",
   "execution_count": 21,
   "id": "0e5da511-ec8a-4389-8a39-f57fd9653d9b",
   "metadata": {},
   "outputs": [],
   "source": [
    "def ClusterTrainer(city):\n",
    "    \n",
    "    # specific = concat_data[concat_data['縣市'] == city]\n",
    "    specific = city\n",
    "    \n",
    "    specific = specific[[\n",
    "        '縣市', '鄉鎮市區', '路名', '主要用途', '主要建材', '建物型態', '使用分區', '備註', '單價',\n",
    "        'lng', '最近航空站', '最近幼稚園、托兒所',\n",
    "        '屋齡', '最近一般公園', '最近碼頭', '最近大型購物中心', \n",
    "        '最近超級市場', '最近大學及研究所', '總樓層數',\n",
    "        '最近國中', '最近生活百貨量販',\n",
    "        '最近捷運站', '最近電力資源', '最近高鐵站',\n",
    "        '最近產業用水及設施', '最近飯店', '最近觀光遊憩設施', \n",
    "        '最近主要道路建設', 'lat', '最近里鄰公園', '最近娛樂設施', \n",
    "        '國中(高)', '國中(中)', '最近火車站', '車位面積', \n",
    "        '最近百貨公司', '陽台面積', '移轉層次', '最近停車場地', \n",
    "        '最近醫療保健', '最近金融機構', '最近加油站', \n",
    "        '土地面積', '主建物面積', '建物面積', '最近工廠', \n",
    "        '最近傳統市場', '附屬建物面積', '國中(下)', \n",
    "        '最近高中', '最近商店', '最近專科', '最近國小', \n",
    "        '最近廟宇距離', '最近金融機構距離'\n",
    "    ]]\n",
    "    specific.iloc[:, 9:] = pd.DataFrame(z_scaler.fit_transform(specific.iloc[:, 9:]), index = specific.index)\n",
    "    \n",
    "    specific = pd.get_dummies(specific, columns=['鄉鎮市區','路名','主要用途','主要建材','建物型態','使用分區','備註'])\n",
    "    specific = specific.drop(['縣市'], axis=1)\n",
    "    \n",
    "    train_data, test_data = train_test_split(specific, random_state=777, train_size=0.8)\n",
    "\n",
    "    # train_test_data = GetSplit(specific)\n",
    "    Y_train = train_data[['單價']]\n",
    "    X_train = train_data.drop(['單價'], axis=1)\n",
    "    Y_test = test_data[['單價']]\n",
    "    X_test = test_data.drop(['單價'], axis=1)\n",
    "\n",
    "    rf_regressor = RandomForestRegressor()\n",
    "    result = rf_regressor.fit(X_train, Y_train)\n",
    "    \n",
    "    return result, Y_test, X_test"
   ]
  },
  {
   "cell_type": "code",
   "execution_count": 22,
   "id": "3611467e-6e61-4a4c-951e-7bf60bed631f",
   "metadata": {
    "collapsed": true,
    "jupyter": {
     "outputs_hidden": true
    },
    "tags": []
   },
   "outputs": [
    {
     "name": "stderr",
     "output_type": "stream",
     "text": [
      "/var/folders/w2/_g9w5yys0f171q4qqm469z1h0000gn/T/ipykernel_20270/869066144.py:23: SettingWithCopyWarning: \n",
      "A value is trying to be set on a copy of a slice from a DataFrame.\n",
      "Try using .loc[row_indexer,col_indexer] = value instead\n",
      "\n",
      "See the caveats in the documentation: https://pandas.pydata.org/pandas-docs/stable/user_guide/indexing.html#returning-a-view-versus-a-copy\n",
      "  specific.iloc[:, 9:] = pd.DataFrame(z_scaler.fit_transform(specific.iloc[:, 9:]), index = specific.index)\n",
      "/var/folders/w2/_g9w5yys0f171q4qqm469z1h0000gn/T/ipykernel_20270/869066144.py:37: DataConversionWarning: A column-vector y was passed when a 1d array was expected. Please change the shape of y to (n_samples,), for example using ravel().\n",
      "  result = rf_regressor.fit(X_train, Y_train)\n",
      "/Users/wangqiqian/opt/anaconda3/lib/python3.9/site-packages/sklearn/base.py:450: UserWarning: X does not have valid feature names, but RandomForestRegressor was fitted with feature names\n",
      "  warnings.warn(\n",
      "/var/folders/w2/_g9w5yys0f171q4qqm469z1h0000gn/T/ipykernel_20270/869066144.py:23: SettingWithCopyWarning: \n",
      "A value is trying to be set on a copy of a slice from a DataFrame.\n",
      "Try using .loc[row_indexer,col_indexer] = value instead\n",
      "\n",
      "See the caveats in the documentation: https://pandas.pydata.org/pandas-docs/stable/user_guide/indexing.html#returning-a-view-versus-a-copy\n",
      "  specific.iloc[:, 9:] = pd.DataFrame(z_scaler.fit_transform(specific.iloc[:, 9:]), index = specific.index)\n",
      "/var/folders/w2/_g9w5yys0f171q4qqm469z1h0000gn/T/ipykernel_20270/869066144.py:37: DataConversionWarning: A column-vector y was passed when a 1d array was expected. Please change the shape of y to (n_samples,), for example using ravel().\n",
      "  result = rf_regressor.fit(X_train, Y_train)\n",
      "/Users/wangqiqian/opt/anaconda3/lib/python3.9/site-packages/sklearn/base.py:450: UserWarning: X does not have valid feature names, but RandomForestRegressor was fitted with feature names\n",
      "  warnings.warn(\n",
      "/var/folders/w2/_g9w5yys0f171q4qqm469z1h0000gn/T/ipykernel_20270/869066144.py:23: SettingWithCopyWarning: \n",
      "A value is trying to be set on a copy of a slice from a DataFrame.\n",
      "Try using .loc[row_indexer,col_indexer] = value instead\n",
      "\n",
      "See the caveats in the documentation: https://pandas.pydata.org/pandas-docs/stable/user_guide/indexing.html#returning-a-view-versus-a-copy\n",
      "  specific.iloc[:, 9:] = pd.DataFrame(z_scaler.fit_transform(specific.iloc[:, 9:]), index = specific.index)\n",
      "/var/folders/w2/_g9w5yys0f171q4qqm469z1h0000gn/T/ipykernel_20270/869066144.py:37: DataConversionWarning: A column-vector y was passed when a 1d array was expected. Please change the shape of y to (n_samples,), for example using ravel().\n",
      "  result = rf_regressor.fit(X_train, Y_train)\n",
      "/Users/wangqiqian/opt/anaconda3/lib/python3.9/site-packages/sklearn/base.py:450: UserWarning: X does not have valid feature names, but RandomForestRegressor was fitted with feature names\n",
      "  warnings.warn(\n",
      "/var/folders/w2/_g9w5yys0f171q4qqm469z1h0000gn/T/ipykernel_20270/869066144.py:23: SettingWithCopyWarning: \n",
      "A value is trying to be set on a copy of a slice from a DataFrame.\n",
      "Try using .loc[row_indexer,col_indexer] = value instead\n",
      "\n",
      "See the caveats in the documentation: https://pandas.pydata.org/pandas-docs/stable/user_guide/indexing.html#returning-a-view-versus-a-copy\n",
      "  specific.iloc[:, 9:] = pd.DataFrame(z_scaler.fit_transform(specific.iloc[:, 9:]), index = specific.index)\n",
      "/var/folders/w2/_g9w5yys0f171q4qqm469z1h0000gn/T/ipykernel_20270/869066144.py:37: DataConversionWarning: A column-vector y was passed when a 1d array was expected. Please change the shape of y to (n_samples,), for example using ravel().\n",
      "  result = rf_regressor.fit(X_train, Y_train)\n",
      "/Users/wangqiqian/opt/anaconda3/lib/python3.9/site-packages/sklearn/base.py:450: UserWarning: X does not have valid feature names, but RandomForestRegressor was fitted with feature names\n",
      "  warnings.warn(\n",
      "/var/folders/w2/_g9w5yys0f171q4qqm469z1h0000gn/T/ipykernel_20270/869066144.py:23: SettingWithCopyWarning: \n",
      "A value is trying to be set on a copy of a slice from a DataFrame.\n",
      "Try using .loc[row_indexer,col_indexer] = value instead\n",
      "\n",
      "See the caveats in the documentation: https://pandas.pydata.org/pandas-docs/stable/user_guide/indexing.html#returning-a-view-versus-a-copy\n",
      "  specific.iloc[:, 9:] = pd.DataFrame(z_scaler.fit_transform(specific.iloc[:, 9:]), index = specific.index)\n",
      "/var/folders/w2/_g9w5yys0f171q4qqm469z1h0000gn/T/ipykernel_20270/869066144.py:37: DataConversionWarning: A column-vector y was passed when a 1d array was expected. Please change the shape of y to (n_samples,), for example using ravel().\n",
      "  result = rf_regressor.fit(X_train, Y_train)\n",
      "/Users/wangqiqian/opt/anaconda3/lib/python3.9/site-packages/sklearn/base.py:450: UserWarning: X does not have valid feature names, but RandomForestRegressor was fitted with feature names\n",
      "  warnings.warn(\n",
      "/var/folders/w2/_g9w5yys0f171q4qqm469z1h0000gn/T/ipykernel_20270/869066144.py:23: SettingWithCopyWarning: \n",
      "A value is trying to be set on a copy of a slice from a DataFrame.\n",
      "Try using .loc[row_indexer,col_indexer] = value instead\n",
      "\n",
      "See the caveats in the documentation: https://pandas.pydata.org/pandas-docs/stable/user_guide/indexing.html#returning-a-view-versus-a-copy\n",
      "  specific.iloc[:, 9:] = pd.DataFrame(z_scaler.fit_transform(specific.iloc[:, 9:]), index = specific.index)\n",
      "/var/folders/w2/_g9w5yys0f171q4qqm469z1h0000gn/T/ipykernel_20270/869066144.py:37: DataConversionWarning: A column-vector y was passed when a 1d array was expected. Please change the shape of y to (n_samples,), for example using ravel().\n",
      "  result = rf_regressor.fit(X_train, Y_train)\n",
      "/Users/wangqiqian/opt/anaconda3/lib/python3.9/site-packages/sklearn/base.py:450: UserWarning: X does not have valid feature names, but RandomForestRegressor was fitted with feature names\n",
      "  warnings.warn(\n",
      "/var/folders/w2/_g9w5yys0f171q4qqm469z1h0000gn/T/ipykernel_20270/869066144.py:23: SettingWithCopyWarning: \n",
      "A value is trying to be set on a copy of a slice from a DataFrame.\n",
      "Try using .loc[row_indexer,col_indexer] = value instead\n",
      "\n",
      "See the caveats in the documentation: https://pandas.pydata.org/pandas-docs/stable/user_guide/indexing.html#returning-a-view-versus-a-copy\n",
      "  specific.iloc[:, 9:] = pd.DataFrame(z_scaler.fit_transform(specific.iloc[:, 9:]), index = specific.index)\n",
      "/var/folders/w2/_g9w5yys0f171q4qqm469z1h0000gn/T/ipykernel_20270/869066144.py:37: DataConversionWarning: A column-vector y was passed when a 1d array was expected. Please change the shape of y to (n_samples,), for example using ravel().\n",
      "  result = rf_regressor.fit(X_train, Y_train)\n",
      "/Users/wangqiqian/opt/anaconda3/lib/python3.9/site-packages/sklearn/base.py:450: UserWarning: X does not have valid feature names, but RandomForestRegressor was fitted with feature names\n",
      "  warnings.warn(\n",
      "/var/folders/w2/_g9w5yys0f171q4qqm469z1h0000gn/T/ipykernel_20270/869066144.py:23: SettingWithCopyWarning: \n",
      "A value is trying to be set on a copy of a slice from a DataFrame.\n",
      "Try using .loc[row_indexer,col_indexer] = value instead\n",
      "\n",
      "See the caveats in the documentation: https://pandas.pydata.org/pandas-docs/stable/user_guide/indexing.html#returning-a-view-versus-a-copy\n",
      "  specific.iloc[:, 9:] = pd.DataFrame(z_scaler.fit_transform(specific.iloc[:, 9:]), index = specific.index)\n",
      "/var/folders/w2/_g9w5yys0f171q4qqm469z1h0000gn/T/ipykernel_20270/869066144.py:37: DataConversionWarning: A column-vector y was passed when a 1d array was expected. Please change the shape of y to (n_samples,), for example using ravel().\n",
      "  result = rf_regressor.fit(X_train, Y_train)\n",
      "/Users/wangqiqian/opt/anaconda3/lib/python3.9/site-packages/sklearn/base.py:450: UserWarning: X does not have valid feature names, but RandomForestRegressor was fitted with feature names\n",
      "  warnings.warn(\n"
     ]
    }
   ],
   "source": [
    "test_res_list = []\n",
    "\n",
    "for i in multi:\n",
    "    res = ClusterTrainer(i)\n",
    "    predictions = res[0].predict(res[2].values)\n",
    "    test_res_list.append(np.mean(np.abs((res[1]['單價'].values - predictions) / res[1]['單價'].values)) * 100)\n",
    "    np.mean(np.abs((res[1]['單價'].values - predictions) / res[1]['單價'].values)) * 100"
   ]
  },
  {
   "cell_type": "code",
   "execution_count": 23,
   "id": "17bf8c75-65fc-4681-a62e-db18374a0e4d",
   "metadata": {},
   "outputs": [
    {
     "name": "stdout",
     "output_type": "stream",
     "text": [
      "[7.306811463469909, 10.643745947128162, 7.56982350272723, 8.257744953390503, 9.832314334637289, 12.397633435720234, 15.44514262785683, 11.162372156672976]\n",
      "10.32694855270039\n"
     ]
    }
   ],
   "source": [
    "print(test_res_list)\n",
    "print(np.mean(test_res_list))"
   ]
  },
  {
   "cell_type": "markdown",
   "id": "6ee2250f-8651-40e8-a058-ed8ce1dffcd5",
   "metadata": {},
   "source": [
    "## 建物類型分群"
   ]
  },
  {
   "cell_type": "code",
   "execution_count": 4,
   "id": "7dd76abe-cf5a-4c4f-904c-0b0523633ed7",
   "metadata": {},
   "outputs": [],
   "source": [
    "concat_data = pd.read_csv(\"new_concat_data.csv\")"
   ]
  },
  {
   "cell_type": "code",
   "execution_count": 7,
   "id": "caba00f5-c114-452f-9fc0-3dc058996268",
   "metadata": {},
   "outputs": [
    {
     "data": {
      "text/plain": [
       "array(['住宅大樓(11層含以上有電梯)', '公寓(5樓含以下無電梯)', '華廈(10層含以下有電梯)', '透天厝'],\n",
       "      dtype=object)"
      ]
     },
     "execution_count": 7,
     "metadata": {},
     "output_type": "execute_result"
    }
   ],
   "source": [
    "concat_data['建物型態'].unique()"
   ]
  },
  {
   "cell_type": "code",
   "execution_count": 30,
   "id": "a6c7eeba-24a3-4691-9e95-d3b6d507b9b7",
   "metadata": {},
   "outputs": [],
   "source": [
    "residental_building = concat_data[concat_data['建物型態'] == '住宅大樓(11層含以上有電梯)']\n",
    "apartment = concat_data[concat_data['建物型態'] == '住宅大樓(11層含以上有電梯)']\n",
    "hua_xia = concat_data[concat_data['建物型態'] == '華廈(10層含以下有電梯)']\n",
    "townhouse = concat_data[concat_data['建物型態'] == '透天厝']\n",
    "\n",
    "multi = [residental_building, apartment, hua_xia, townhouse]"
   ]
  },
  {
   "cell_type": "code",
   "execution_count": 52,
   "id": "ece823bb-73c9-4fb5-94a3-3dc0aec38dd5",
   "metadata": {},
   "outputs": [],
   "source": [
    "z_scaler = preprocessing.StandardScaler()\n",
    "\n",
    "def NewClusterTrainer(house_type):\n",
    "    \n",
    "    # specific = concat_data[concat_data['縣市'] == city]\n",
    "    specific = house_type\n",
    "    \n",
    "    specific = specific[[\n",
    "        '縣市', '鄉鎮市區', '路名', '主要用途', '主要建材', '建物型態', '使用分區', '備註', '單價',\n",
    "        'lng', '最近航空站', '最近幼稚園、托兒所',\n",
    "        '屋齡', '最近一般公園', '最近碼頭', '最近大型購物中心', \n",
    "        '最近超級市場', '最近大學及研究所', '總樓層數',\n",
    "        '最近國中', '最近生活百貨量販',\n",
    "        '最近捷運站', '最近電力資源', '最近高鐵站',\n",
    "        '最近產業用水及設施', '最近飯店', '最近觀光遊憩設施', \n",
    "        '最近主要道路建設', 'lat', '最近里鄰公園', '最近娛樂設施', \n",
    "        '國中(高)', '國中(中)', '最近火車站', '車位面積', \n",
    "        '最近百貨公司', '陽台面積', '移轉層次', '最近停車場地', \n",
    "        '最近醫療保健', '最近金融機構', '最近加油站', \n",
    "        '土地面積', '主建物面積', '建物面積', '最近工廠', \n",
    "        '最近傳統市場', '附屬建物面積', '國中(下)', \n",
    "        '最近高中', '最近商店', '最近專科', '最近國小', \n",
    "        '最近廟宇距離', '最近金融機構距離'\n",
    "    ]]\n",
    "    specific.iloc[:, 9:] = pd.DataFrame(z_scaler.fit_transform(specific.iloc[:, 9:]), index = specific.index)\n",
    "    \n",
    "    specific = pd.get_dummies(specific, columns=['縣市','鄉鎮市區','路名','主要用途','主要建材','建物型態','使用分區','備註'])\n",
    "    \n",
    "    train_data, test_data = train_test_split(specific, random_state=777, train_size=0.8)\n",
    "\n",
    "    # train_test_data = GetSplit(specific)\n",
    "    Y_train = train_data[['單價']]\n",
    "    X_train = train_data.drop(['單價'], axis=1)\n",
    "    Y_test = test_data[['單價']]\n",
    "    X_test = test_data.drop(['單價'], axis=1)\n",
    "\n",
    "    ridge = Ridge()\n",
    "    parameters = {'alpha':[1e-15,1e-10,1e-8,1e-3,1e-2,1,5,10,20,30,35,40,45,50,55,100]}\n",
    "    ridge_reg = GridSearchCV(ridge,parameters,scoring='neg_mean_squared_error',cv=5)\n",
    "    result = ridge_reg.fit(X_train.values, Y_train['單價'].values)\n",
    "    \n",
    "    return result, Y_test, X_test"
   ]
  },
  {
   "cell_type": "code",
   "execution_count": 53,
   "id": "609c14f8-a410-4cec-ac78-01bad79a94e4",
   "metadata": {
    "collapsed": true,
    "jupyter": {
     "outputs_hidden": true
    },
    "tags": []
   },
   "outputs": [
    {
     "name": "stderr",
     "output_type": "stream",
     "text": [
      "/var/folders/w2/_g9w5yys0f171q4qqm469z1h0000gn/T/ipykernel_22495/2928505894.py:25: SettingWithCopyWarning: \n",
      "A value is trying to be set on a copy of a slice from a DataFrame.\n",
      "Try using .loc[row_indexer,col_indexer] = value instead\n",
      "\n",
      "See the caveats in the documentation: https://pandas.pydata.org/pandas-docs/stable/user_guide/indexing.html#returning-a-view-versus-a-copy\n",
      "  specific.iloc[:, 9:] = pd.DataFrame(z_scaler.fit_transform(specific.iloc[:, 9:]), index = specific.index)\n",
      "/Users/wangqiqian/opt/anaconda3/lib/python3.9/site-packages/sklearn/model_selection/_validation.py:378: FitFailedWarning: \n",
      "1 fits failed out of a total of 80.\n",
      "The score on these train-test partitions for these parameters will be set to nan.\n",
      "If these failures are not expected, you can try to debug them by setting error_score='raise'.\n",
      "\n",
      "Below are more details about the failures:\n",
      "--------------------------------------------------------------------------------\n",
      "1 fits failed with the following error:\n",
      "Traceback (most recent call last):\n",
      "  File \"/Users/wangqiqian/opt/anaconda3/lib/python3.9/site-packages/sklearn/model_selection/_validation.py\", line 686, in _fit_and_score\n",
      "    estimator.fit(X_train, y_train, **fit_params)\n",
      "  File \"/Users/wangqiqian/opt/anaconda3/lib/python3.9/site-packages/sklearn/linear_model/_ridge.py\", line 1130, in fit\n",
      "    return super().fit(X, y, sample_weight=sample_weight)\n",
      "  File \"/Users/wangqiqian/opt/anaconda3/lib/python3.9/site-packages/sklearn/linear_model/_ridge.py\", line 889, in fit\n",
      "    self.coef_, self.n_iter_ = _ridge_regression(\n",
      "  File \"/Users/wangqiqian/opt/anaconda3/lib/python3.9/site-packages/sklearn/linear_model/_ridge.py\", line 758, in _ridge_regression\n",
      "    coef = _solve_svd(X, y, alpha)\n",
      "  File \"/Users/wangqiqian/opt/anaconda3/lib/python3.9/site-packages/sklearn/linear_model/_ridge.py\", line 285, in _solve_svd\n",
      "    U, s, Vt = linalg.svd(X, full_matrices=False)\n",
      "  File \"/Users/wangqiqian/opt/anaconda3/lib/python3.9/site-packages/scipy/linalg/_decomp_svd.py\", line 131, in svd\n",
      "    raise LinAlgError(\"SVD did not converge\")\n",
      "numpy.linalg.LinAlgError: SVD did not converge\n",
      "\n",
      "  warnings.warn(some_fits_failed_message, FitFailedWarning)\n",
      "/Users/wangqiqian/opt/anaconda3/lib/python3.9/site-packages/sklearn/model_selection/_search.py:953: UserWarning: One or more of the test scores are non-finite: [        nan -0.0616401  -0.06165558 -0.06017944 -0.05370749 -0.04372135\n",
      " -0.04596459 -0.04866216 -0.05209614 -0.05447388 -0.05546999 -0.05638171\n",
      " -0.0572276  -0.05802039 -0.05876915 -0.06426361]\n",
      "  warnings.warn(\n",
      "/var/folders/w2/_g9w5yys0f171q4qqm469z1h0000gn/T/ipykernel_22495/2928505894.py:25: SettingWithCopyWarning: \n",
      "A value is trying to be set on a copy of a slice from a DataFrame.\n",
      "Try using .loc[row_indexer,col_indexer] = value instead\n",
      "\n",
      "See the caveats in the documentation: https://pandas.pydata.org/pandas-docs/stable/user_guide/indexing.html#returning-a-view-versus-a-copy\n",
      "  specific.iloc[:, 9:] = pd.DataFrame(z_scaler.fit_transform(specific.iloc[:, 9:]), index = specific.index)\n",
      "/Users/wangqiqian/opt/anaconda3/lib/python3.9/site-packages/sklearn/model_selection/_validation.py:378: FitFailedWarning: \n",
      "1 fits failed out of a total of 80.\n",
      "The score on these train-test partitions for these parameters will be set to nan.\n",
      "If these failures are not expected, you can try to debug them by setting error_score='raise'.\n",
      "\n",
      "Below are more details about the failures:\n",
      "--------------------------------------------------------------------------------\n",
      "1 fits failed with the following error:\n",
      "Traceback (most recent call last):\n",
      "  File \"/Users/wangqiqian/opt/anaconda3/lib/python3.9/site-packages/sklearn/model_selection/_validation.py\", line 686, in _fit_and_score\n",
      "    estimator.fit(X_train, y_train, **fit_params)\n",
      "  File \"/Users/wangqiqian/opt/anaconda3/lib/python3.9/site-packages/sklearn/linear_model/_ridge.py\", line 1130, in fit\n",
      "    return super().fit(X, y, sample_weight=sample_weight)\n",
      "  File \"/Users/wangqiqian/opt/anaconda3/lib/python3.9/site-packages/sklearn/linear_model/_ridge.py\", line 889, in fit\n",
      "    self.coef_, self.n_iter_ = _ridge_regression(\n",
      "  File \"/Users/wangqiqian/opt/anaconda3/lib/python3.9/site-packages/sklearn/linear_model/_ridge.py\", line 758, in _ridge_regression\n",
      "    coef = _solve_svd(X, y, alpha)\n",
      "  File \"/Users/wangqiqian/opt/anaconda3/lib/python3.9/site-packages/sklearn/linear_model/_ridge.py\", line 285, in _solve_svd\n",
      "    U, s, Vt = linalg.svd(X, full_matrices=False)\n",
      "  File \"/Users/wangqiqian/opt/anaconda3/lib/python3.9/site-packages/scipy/linalg/_decomp_svd.py\", line 131, in svd\n",
      "    raise LinAlgError(\"SVD did not converge\")\n",
      "numpy.linalg.LinAlgError: SVD did not converge\n",
      "\n",
      "  warnings.warn(some_fits_failed_message, FitFailedWarning)\n",
      "/Users/wangqiqian/opt/anaconda3/lib/python3.9/site-packages/sklearn/model_selection/_search.py:953: UserWarning: One or more of the test scores are non-finite: [        nan -0.0616401  -0.06165558 -0.06017944 -0.05370749 -0.04372135\n",
      " -0.04596459 -0.04866216 -0.05209614 -0.05447388 -0.05546999 -0.05638171\n",
      " -0.0572276  -0.05802039 -0.05876915 -0.06426361]\n",
      "  warnings.warn(\n",
      "/var/folders/w2/_g9w5yys0f171q4qqm469z1h0000gn/T/ipykernel_22495/2928505894.py:25: SettingWithCopyWarning: \n",
      "A value is trying to be set on a copy of a slice from a DataFrame.\n",
      "Try using .loc[row_indexer,col_indexer] = value instead\n",
      "\n",
      "See the caveats in the documentation: https://pandas.pydata.org/pandas-docs/stable/user_guide/indexing.html#returning-a-view-versus-a-copy\n",
      "  specific.iloc[:, 9:] = pd.DataFrame(z_scaler.fit_transform(specific.iloc[:, 9:]), index = specific.index)\n",
      "/Users/wangqiqian/opt/anaconda3/lib/python3.9/site-packages/sklearn/linear_model/_ridge.py:251: UserWarning: Singular matrix in solving dual problem. Using least-squares solution instead.\n",
      "  warnings.warn(\n",
      "/Users/wangqiqian/opt/anaconda3/lib/python3.9/site-packages/sklearn/linear_model/_ridge.py:251: UserWarning: Singular matrix in solving dual problem. Using least-squares solution instead.\n",
      "  warnings.warn(\n",
      "/Users/wangqiqian/opt/anaconda3/lib/python3.9/site-packages/sklearn/linear_model/_ridge.py:251: UserWarning: Singular matrix in solving dual problem. Using least-squares solution instead.\n",
      "  warnings.warn(\n",
      "/Users/wangqiqian/opt/anaconda3/lib/python3.9/site-packages/sklearn/linear_model/_ridge.py:251: UserWarning: Singular matrix in solving dual problem. Using least-squares solution instead.\n",
      "  warnings.warn(\n",
      "/Users/wangqiqian/opt/anaconda3/lib/python3.9/site-packages/sklearn/linear_model/_ridge.py:251: UserWarning: Singular matrix in solving dual problem. Using least-squares solution instead.\n",
      "  warnings.warn(\n",
      "/var/folders/w2/_g9w5yys0f171q4qqm469z1h0000gn/T/ipykernel_22495/2928505894.py:25: SettingWithCopyWarning: \n",
      "A value is trying to be set on a copy of a slice from a DataFrame.\n",
      "Try using .loc[row_indexer,col_indexer] = value instead\n",
      "\n",
      "See the caveats in the documentation: https://pandas.pydata.org/pandas-docs/stable/user_guide/indexing.html#returning-a-view-versus-a-copy\n",
      "  specific.iloc[:, 9:] = pd.DataFrame(z_scaler.fit_transform(specific.iloc[:, 9:]), index = specific.index)\n"
     ]
    },
    {
     "ename": "ValueError",
     "evalue": "Cannot have number of splits n_splits=5 greater than the number of samples: n_samples=4.",
     "output_type": "error",
     "traceback": [
      "\u001b[0;31m---------------------------------------------------------------------------\u001b[0m",
      "\u001b[0;31mValueError\u001b[0m                                Traceback (most recent call last)",
      "Input \u001b[0;32mIn [53]\u001b[0m, in \u001b[0;36m<cell line: 3>\u001b[0;34m()\u001b[0m\n\u001b[1;32m      1\u001b[0m test_res_list \u001b[38;5;241m=\u001b[39m []\n\u001b[1;32m      3\u001b[0m \u001b[38;5;28;01mfor\u001b[39;00m i \u001b[38;5;129;01min\u001b[39;00m multi:\n\u001b[0;32m----> 4\u001b[0m     res \u001b[38;5;241m=\u001b[39m \u001b[43mNewClusterTrainer\u001b[49m\u001b[43m(\u001b[49m\u001b[43mi\u001b[49m\u001b[43m)\u001b[49m\n\u001b[1;32m      5\u001b[0m     predictions \u001b[38;5;241m=\u001b[39m res[\u001b[38;5;241m0\u001b[39m]\u001b[38;5;241m.\u001b[39mpredict(res[\u001b[38;5;241m2\u001b[39m]\u001b[38;5;241m.\u001b[39mvalues)\n\u001b[1;32m      6\u001b[0m     test_res_list\u001b[38;5;241m.\u001b[39mappend(np\u001b[38;5;241m.\u001b[39mmean(np\u001b[38;5;241m.\u001b[39mabs((res[\u001b[38;5;241m1\u001b[39m][\u001b[38;5;124m'\u001b[39m\u001b[38;5;124m單價\u001b[39m\u001b[38;5;124m'\u001b[39m]\u001b[38;5;241m.\u001b[39mvalues \u001b[38;5;241m-\u001b[39m predictions) \u001b[38;5;241m/\u001b[39m res[\u001b[38;5;241m1\u001b[39m][\u001b[38;5;124m'\u001b[39m\u001b[38;5;124m單價\u001b[39m\u001b[38;5;124m'\u001b[39m]\u001b[38;5;241m.\u001b[39mvalues)) \u001b[38;5;241m*\u001b[39m \u001b[38;5;241m100\u001b[39m)\n",
      "Input \u001b[0;32mIn [52]\u001b[0m, in \u001b[0;36mNewClusterTrainer\u001b[0;34m(house_type)\u001b[0m\n\u001b[1;32m     38\u001b[0m parameters \u001b[38;5;241m=\u001b[39m {\u001b[38;5;124m'\u001b[39m\u001b[38;5;124malpha\u001b[39m\u001b[38;5;124m'\u001b[39m:[\u001b[38;5;241m1e-15\u001b[39m,\u001b[38;5;241m1e-10\u001b[39m,\u001b[38;5;241m1e-8\u001b[39m,\u001b[38;5;241m1e-3\u001b[39m,\u001b[38;5;241m1e-2\u001b[39m,\u001b[38;5;241m1\u001b[39m,\u001b[38;5;241m5\u001b[39m,\u001b[38;5;241m10\u001b[39m,\u001b[38;5;241m20\u001b[39m,\u001b[38;5;241m30\u001b[39m,\u001b[38;5;241m35\u001b[39m,\u001b[38;5;241m40\u001b[39m,\u001b[38;5;241m45\u001b[39m,\u001b[38;5;241m50\u001b[39m,\u001b[38;5;241m55\u001b[39m,\u001b[38;5;241m100\u001b[39m]}\n\u001b[1;32m     39\u001b[0m ridge_reg \u001b[38;5;241m=\u001b[39m GridSearchCV(ridge,parameters,scoring\u001b[38;5;241m=\u001b[39m\u001b[38;5;124m'\u001b[39m\u001b[38;5;124mneg_mean_squared_error\u001b[39m\u001b[38;5;124m'\u001b[39m,cv\u001b[38;5;241m=\u001b[39m\u001b[38;5;241m5\u001b[39m)\n\u001b[0;32m---> 40\u001b[0m result \u001b[38;5;241m=\u001b[39m \u001b[43mridge_reg\u001b[49m\u001b[38;5;241;43m.\u001b[39;49m\u001b[43mfit\u001b[49m\u001b[43m(\u001b[49m\u001b[43mX_train\u001b[49m\u001b[38;5;241;43m.\u001b[39;49m\u001b[43mvalues\u001b[49m\u001b[43m,\u001b[49m\u001b[43m \u001b[49m\u001b[43mY_train\u001b[49m\u001b[43m[\u001b[49m\u001b[38;5;124;43m'\u001b[39;49m\u001b[38;5;124;43m單價\u001b[39;49m\u001b[38;5;124;43m'\u001b[39;49m\u001b[43m]\u001b[49m\u001b[38;5;241;43m.\u001b[39;49m\u001b[43mvalues\u001b[49m\u001b[43m)\u001b[49m\n\u001b[1;32m     42\u001b[0m \u001b[38;5;28;01mreturn\u001b[39;00m result, Y_test, X_test\n",
      "File \u001b[0;32m~/opt/anaconda3/lib/python3.9/site-packages/sklearn/model_selection/_search.py:875\u001b[0m, in \u001b[0;36mBaseSearchCV.fit\u001b[0;34m(self, X, y, groups, **fit_params)\u001b[0m\n\u001b[1;32m    869\u001b[0m     results \u001b[38;5;241m=\u001b[39m \u001b[38;5;28mself\u001b[39m\u001b[38;5;241m.\u001b[39m_format_results(\n\u001b[1;32m    870\u001b[0m         all_candidate_params, n_splits, all_out, all_more_results\n\u001b[1;32m    871\u001b[0m     )\n\u001b[1;32m    873\u001b[0m     \u001b[38;5;28;01mreturn\u001b[39;00m results\n\u001b[0;32m--> 875\u001b[0m \u001b[38;5;28;43mself\u001b[39;49m\u001b[38;5;241;43m.\u001b[39;49m\u001b[43m_run_search\u001b[49m\u001b[43m(\u001b[49m\u001b[43mevaluate_candidates\u001b[49m\u001b[43m)\u001b[49m\n\u001b[1;32m    877\u001b[0m \u001b[38;5;66;03m# multimetric is determined here because in the case of a callable\u001b[39;00m\n\u001b[1;32m    878\u001b[0m \u001b[38;5;66;03m# self.scoring the return type is only known after calling\u001b[39;00m\n\u001b[1;32m    879\u001b[0m first_test_score \u001b[38;5;241m=\u001b[39m all_out[\u001b[38;5;241m0\u001b[39m][\u001b[38;5;124m\"\u001b[39m\u001b[38;5;124mtest_scores\u001b[39m\u001b[38;5;124m\"\u001b[39m]\n",
      "File \u001b[0;32m~/opt/anaconda3/lib/python3.9/site-packages/sklearn/model_selection/_search.py:1379\u001b[0m, in \u001b[0;36mGridSearchCV._run_search\u001b[0;34m(self, evaluate_candidates)\u001b[0m\n\u001b[1;32m   1377\u001b[0m \u001b[38;5;28;01mdef\u001b[39;00m \u001b[38;5;21m_run_search\u001b[39m(\u001b[38;5;28mself\u001b[39m, evaluate_candidates):\n\u001b[1;32m   1378\u001b[0m     \u001b[38;5;124;03m\"\"\"Search all candidates in param_grid\"\"\"\u001b[39;00m\n\u001b[0;32m-> 1379\u001b[0m     \u001b[43mevaluate_candidates\u001b[49m\u001b[43m(\u001b[49m\u001b[43mParameterGrid\u001b[49m\u001b[43m(\u001b[49m\u001b[38;5;28;43mself\u001b[39;49m\u001b[38;5;241;43m.\u001b[39;49m\u001b[43mparam_grid\u001b[49m\u001b[43m)\u001b[49m\u001b[43m)\u001b[49m\n",
      "File \u001b[0;32m~/opt/anaconda3/lib/python3.9/site-packages/sklearn/model_selection/_search.py:834\u001b[0m, in \u001b[0;36mBaseSearchCV.fit.<locals>.evaluate_candidates\u001b[0;34m(candidate_params, cv, more_results)\u001b[0m\n\u001b[1;32m    814\u001b[0m \u001b[38;5;28;01mif\u001b[39;00m \u001b[38;5;28mself\u001b[39m\u001b[38;5;241m.\u001b[39mverbose \u001b[38;5;241m>\u001b[39m \u001b[38;5;241m0\u001b[39m:\n\u001b[1;32m    815\u001b[0m     \u001b[38;5;28mprint\u001b[39m(\n\u001b[1;32m    816\u001b[0m         \u001b[38;5;124m\"\u001b[39m\u001b[38;5;124mFitting \u001b[39m\u001b[38;5;132;01m{0}\u001b[39;00m\u001b[38;5;124m folds for each of \u001b[39m\u001b[38;5;132;01m{1}\u001b[39;00m\u001b[38;5;124m candidates,\u001b[39m\u001b[38;5;124m\"\u001b[39m\n\u001b[1;32m    817\u001b[0m         \u001b[38;5;124m\"\u001b[39m\u001b[38;5;124m totalling \u001b[39m\u001b[38;5;132;01m{2}\u001b[39;00m\u001b[38;5;124m fits\u001b[39m\u001b[38;5;124m\"\u001b[39m\u001b[38;5;241m.\u001b[39mformat(\n\u001b[1;32m    818\u001b[0m             n_splits, n_candidates, n_candidates \u001b[38;5;241m*\u001b[39m n_splits\n\u001b[1;32m    819\u001b[0m         )\n\u001b[1;32m    820\u001b[0m     )\n\u001b[1;32m    822\u001b[0m out \u001b[38;5;241m=\u001b[39m parallel(\n\u001b[1;32m    823\u001b[0m     delayed(_fit_and_score)(\n\u001b[1;32m    824\u001b[0m         clone(base_estimator),\n\u001b[1;32m    825\u001b[0m         X,\n\u001b[1;32m    826\u001b[0m         y,\n\u001b[1;32m    827\u001b[0m         train\u001b[38;5;241m=\u001b[39mtrain,\n\u001b[1;32m    828\u001b[0m         test\u001b[38;5;241m=\u001b[39mtest,\n\u001b[1;32m    829\u001b[0m         parameters\u001b[38;5;241m=\u001b[39mparameters,\n\u001b[1;32m    830\u001b[0m         split_progress\u001b[38;5;241m=\u001b[39m(split_idx, n_splits),\n\u001b[1;32m    831\u001b[0m         candidate_progress\u001b[38;5;241m=\u001b[39m(cand_idx, n_candidates),\n\u001b[1;32m    832\u001b[0m         \u001b[38;5;241m*\u001b[39m\u001b[38;5;241m*\u001b[39mfit_and_score_kwargs,\n\u001b[1;32m    833\u001b[0m     )\n\u001b[0;32m--> 834\u001b[0m     \u001b[38;5;28;01mfor\u001b[39;00m (cand_idx, parameters), (split_idx, (train, test)) \u001b[38;5;129;01min\u001b[39;00m \u001b[43mproduct\u001b[49m\u001b[43m(\u001b[49m\n\u001b[1;32m    835\u001b[0m \u001b[43m        \u001b[49m\u001b[38;5;28;43menumerate\u001b[39;49m\u001b[43m(\u001b[49m\u001b[43mcandidate_params\u001b[49m\u001b[43m)\u001b[49m\u001b[43m,\u001b[49m\u001b[43m \u001b[49m\u001b[38;5;28;43menumerate\u001b[39;49m\u001b[43m(\u001b[49m\u001b[43mcv\u001b[49m\u001b[38;5;241;43m.\u001b[39;49m\u001b[43msplit\u001b[49m\u001b[43m(\u001b[49m\u001b[43mX\u001b[49m\u001b[43m,\u001b[49m\u001b[43m \u001b[49m\u001b[43my\u001b[49m\u001b[43m,\u001b[49m\u001b[43m \u001b[49m\u001b[43mgroups\u001b[49m\u001b[43m)\u001b[49m\u001b[43m)\u001b[49m\n\u001b[1;32m    836\u001b[0m \u001b[43m    \u001b[49m\u001b[43m)\u001b[49m\n\u001b[1;32m    837\u001b[0m )\n\u001b[1;32m    839\u001b[0m \u001b[38;5;28;01mif\u001b[39;00m \u001b[38;5;28mlen\u001b[39m(out) \u001b[38;5;241m<\u001b[39m \u001b[38;5;241m1\u001b[39m:\n\u001b[1;32m    840\u001b[0m     \u001b[38;5;28;01mraise\u001b[39;00m \u001b[38;5;167;01mValueError\u001b[39;00m(\n\u001b[1;32m    841\u001b[0m         \u001b[38;5;124m\"\u001b[39m\u001b[38;5;124mNo fits were performed. \u001b[39m\u001b[38;5;124m\"\u001b[39m\n\u001b[1;32m    842\u001b[0m         \u001b[38;5;124m\"\u001b[39m\u001b[38;5;124mWas the CV iterator empty? \u001b[39m\u001b[38;5;124m\"\u001b[39m\n\u001b[1;32m    843\u001b[0m         \u001b[38;5;124m\"\u001b[39m\u001b[38;5;124mWere there no candidates?\u001b[39m\u001b[38;5;124m\"\u001b[39m\n\u001b[1;32m    844\u001b[0m     )\n",
      "File \u001b[0;32m~/opt/anaconda3/lib/python3.9/site-packages/sklearn/model_selection/_split.py:333\u001b[0m, in \u001b[0;36m_BaseKFold.split\u001b[0;34m(self, X, y, groups)\u001b[0m\n\u001b[1;32m    331\u001b[0m n_samples \u001b[38;5;241m=\u001b[39m _num_samples(X)\n\u001b[1;32m    332\u001b[0m \u001b[38;5;28;01mif\u001b[39;00m \u001b[38;5;28mself\u001b[39m\u001b[38;5;241m.\u001b[39mn_splits \u001b[38;5;241m>\u001b[39m n_samples:\n\u001b[0;32m--> 333\u001b[0m     \u001b[38;5;28;01mraise\u001b[39;00m \u001b[38;5;167;01mValueError\u001b[39;00m(\n\u001b[1;32m    334\u001b[0m         (\n\u001b[1;32m    335\u001b[0m             \u001b[38;5;124m\"\u001b[39m\u001b[38;5;124mCannot have number of splits n_splits=\u001b[39m\u001b[38;5;132;01m{0}\u001b[39;00m\u001b[38;5;124m greater\u001b[39m\u001b[38;5;124m\"\u001b[39m\n\u001b[1;32m    336\u001b[0m             \u001b[38;5;124m\"\u001b[39m\u001b[38;5;124m than the number of samples: n_samples=\u001b[39m\u001b[38;5;132;01m{1}\u001b[39;00m\u001b[38;5;124m.\u001b[39m\u001b[38;5;124m\"\u001b[39m\n\u001b[1;32m    337\u001b[0m         )\u001b[38;5;241m.\u001b[39mformat(\u001b[38;5;28mself\u001b[39m\u001b[38;5;241m.\u001b[39mn_splits, n_samples)\n\u001b[1;32m    338\u001b[0m     )\n\u001b[1;32m    340\u001b[0m \u001b[38;5;28;01mfor\u001b[39;00m train, test \u001b[38;5;129;01min\u001b[39;00m \u001b[38;5;28msuper\u001b[39m()\u001b[38;5;241m.\u001b[39msplit(X, y, groups):\n\u001b[1;32m    341\u001b[0m     \u001b[38;5;28;01myield\u001b[39;00m train, test\n",
      "\u001b[0;31mValueError\u001b[0m: Cannot have number of splits n_splits=5 greater than the number of samples: n_samples=4."
     ]
    }
   ],
   "source": [
    "test_res_list = []\n",
    "\n",
    "for i in multi:\n",
    "    res = NewClusterTrainer(i)\n",
    "    predictions = res[0].predict(res[2].values)\n",
    "    test_res_list.append(np.mean(np.abs((res[1]['單價'].values - predictions) / res[1]['單價'].values)) * 100)\n",
    "    np.mean(np.abs((res[1]['單價'].values - predictions) / res[1]['單價'].values)) * 100"
   ]
  },
  {
   "cell_type": "code",
   "execution_count": 54,
   "id": "01c97267-80b6-409b-adcb-ba6f155a9c90",
   "metadata": {},
   "outputs": [
    {
     "data": {
      "text/plain": [
       "[10.089786925197528, 10.089786925197528, 10.563963139562668]"
      ]
     },
     "execution_count": 54,
     "metadata": {},
     "output_type": "execute_result"
    }
   ],
   "source": [
    "test_res_list"
   ]
  },
  {
   "cell_type": "markdown",
   "id": "adaacd07-bebd-4821-be93-589dddf71cc3",
   "metadata": {},
   "source": [
    "## 樓層為1"
   ]
  },
  {
   "cell_type": "code",
   "execution_count": 55,
   "id": "6c943b79-c402-4ce4-ac8e-14ac0498d8ef",
   "metadata": {},
   "outputs": [],
   "source": [
    "concat_data = pd.read_csv(\"new_concat_data.csv\")"
   ]
  },
  {
   "cell_type": "code",
   "execution_count": 65,
   "id": "1f304e8a-a078-45f9-b631-2d154d7a5b65",
   "metadata": {},
   "outputs": [
    {
     "data": {
      "text/plain": [
       "array([12, 15, 14,  4, 13,  5, 25, 18, 16,  9, 23,  7,  8, 24, 28, 29, 21,\n",
       "       22, 19, 11,  6, 20, 10, 26, 37, 27,  3, 36, 17, 35, 30, 41, 38, 32,\n",
       "        2, 31, 46, 34, 39, 68, 33])"
      ]
     },
     "execution_count": 65,
     "metadata": {},
     "output_type": "execute_result"
    }
   ],
   "source": [
    "concat_data['總樓層數'].unique()"
   ]
  },
  {
   "cell_type": "markdown",
   "id": "d5352311-60a0-457f-a45a-6416dfe088d1",
   "metadata": {},
   "source": [
    "## 市區"
   ]
  },
  {
   "cell_type": "code",
   "execution_count": 66,
   "id": "4b3b2d86-6403-4824-b0f6-5aa4788a1286",
   "metadata": {},
   "outputs": [],
   "source": [
    "concat_data = pd.read_csv(\"new_concat_data.csv\")"
   ]
  },
  {
   "cell_type": "code",
   "execution_count": 67,
   "id": "9f7ed52e-1b5d-4f09-9d2c-b5df1cfe1901",
   "metadata": {},
   "outputs": [
    {
     "data": {
      "text/plain": [
       "array(['萬華區', '鳳山區', '新莊區', '樹林區', '平鎮區', '永和區', '中壢區', '泰山區', '南區',\n",
       "       '士林區', '南屯區', '新店區', '文山區', '西屯區', '深坑區', '土城區', '三峽區', '三民區',\n",
       "       '桃園區', '三重區', '八德區', '內湖區', '前金區', '新市區', '五股區', '松山區', '蘆竹區',\n",
       "       '林口區', '北屯區', '頭份市', '豐原區', '竹北市', '永康區', '新興區', '安平區', '暖暖區',\n",
       "       '潭子區', '太平區', '大園區', '信義區', '鼓山區', '中山區', '板橋區', '安南區', '中正區',\n",
       "       '左營區', '龜山區', '大里區', '汐止區', '屏東市', '新竹市', '淡水區', '楠梓區', '鶯歌區',\n",
       "       '中和區', '北區', '蘆洲區', '中西區', '南港區', '安樂區', '仁德區', '楊梅區', '西區', '北投區',\n",
       "       '歸仁區', '前鎮區', '大同區', '苓雅區', '東區', '頭城鎮', '大溪區', '宜蘭市', '仁武區',\n",
       "       '花蓮市', '烏日區', '小港區', '礁溪鄉', '嘉義市', '羅東鎮', '大安區', '金寧鄉', '鹽埕區',\n",
       "       '竹東鎮', '湖口鄉', '中區', '竹南鎮', '民雄鄉', '金城鎮', '五結鄉', '彰化市', '七堵區',\n",
       "       '橋頭區', '新豐鄉', '金湖鎮', '仁愛區', '冬山鄉', '岡山區', '員山鄉', '八里區', '金沙鎮',\n",
       "       '龍潭區', '善化區', '霧峰區', '觀音區', '金山區', '神岡區', '寶山鄉', '朴子市', '鳥松區',\n",
       "       '斗南鎮', '新埔鎮', '大雅區', '內埔鄉', '潮州鎮', '龍井區', '吉安鄉', '清水區', '虎尾鎮',\n",
       "       '員林市', '大肚區', '新營區'], dtype=object)"
      ]
     },
     "execution_count": 67,
     "metadata": {},
     "output_type": "execute_result"
    }
   ],
   "source": [
    "concat_data['鄉鎮市區'].unique()"
   ]
  }
 ],
 "metadata": {
  "kernelspec": {
   "display_name": "Python 3 (ipykernel)",
   "language": "python",
   "name": "python3"
  },
  "language_info": {
   "codemirror_mode": {
    "name": "ipython",
    "version": 3
   },
   "file_extension": ".py",
   "mimetype": "text/x-python",
   "name": "python",
   "nbconvert_exporter": "python",
   "pygments_lexer": "ipython3",
   "version": "3.9.12"
  }
 },
 "nbformat": 4,
 "nbformat_minor": 5
}
